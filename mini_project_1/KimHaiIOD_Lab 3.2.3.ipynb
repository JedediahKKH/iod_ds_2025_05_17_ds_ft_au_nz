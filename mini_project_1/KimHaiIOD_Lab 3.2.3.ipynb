{
 "cells": [
  {
   "cell_type": "markdown",
   "metadata": {
    "id": "2H4rNmz9QMoq"
   },
   "source": [
    "<div>\n",
    "<img src=https://www.institutedata.com/wp-content/uploads/2019/10/iod_h_tp_primary_c.svg width=\"300\">\n",
    "</div>"
   ]
  },
  {
   "cell_type": "markdown",
   "metadata": {
    "id": "-z0xtWELQMot"
   },
   "source": [
    "# Lab 3.2.3\n",
    "# *Google BigQuery and Gemini API*"
   ]
  },
  {
   "cell_type": "markdown",
   "metadata": {
    "id": "Fyl3eBVAQMox"
   },
   "source": [
    "## Introduction"
   ]
  },
  {
   "cell_type": "markdown",
   "metadata": {
    "id": "xDR6T_maQMo0"
   },
   "source": [
    "The Google BigQuery UI provides access to Google's extensive collection of public data sets via an SQL-based query engine.\n",
    "\n",
    "The BigQuery API provides programmatic access to the data sets.\n",
    "\n",
    "The Google Gemini API provides programmatic access to Google's Generative AI models.\n",
    "\n",
    "Each of these is explored in this lab."
   ]
  },
  {
   "cell_type": "markdown",
   "metadata": {
    "id": "g2EqZVSGQMo3"
   },
   "source": [
    "## BigQuery Web UI\n",
    "\n",
    "The Google BigQuery UI can be used to discover interesting data before writing Python code to access it. Then we can reproduce it in an API request so as to aggregate large amounts of data on Google's infrastructure before pulling the results into our application.\n",
    "\n",
    "Work through the Quickstart at https://cloud.google.com/bigquery/docs/quickstarts/quickstart-web-ui.\n",
    "\n",
    "You will need to set up a Google Cloud Platform account if you don't already have one. (This should not cost anything during the trial period unless you perform a large amount of querying. Afterwards, costs are based on actual resource usage, but most offerings have a free tier.)"
   ]
  },
  {
   "cell_type": "markdown",
   "metadata": {
    "id": "JM7ACBFEQMo6"
   },
   "source": [
    "## BigQuery API\n",
    "\n",
    "- Open Google Cloud Console (https://console.cloud.google.com/home/) and select to create a project. A project is required to enable access to Google Cloud services such as BigQuery and Gemini.\n",
    "\n",
    "- Check that the BigQuery API is enabled in your project by visiting https://console.cloud.google.com/apis/library/bigquery.googleapis.com."
   ]
  },
  {
   "cell_type": "markdown",
   "metadata": {
    "id": "peKoqVLaQMpA"
   },
   "source": [
    "### Authentication\n",
    "\n",
    "Create a **service account** at https://console.cloud.google.com/iam-admin/serviceaccounts/create. A service account is used by an application to access Google Cloud Platform's services and has an associated email address (different from your own).\n"
   ]
  },
  {
   "cell_type": "markdown",
   "metadata": {
    "id": "RprZFRn6QMpB"
   },
   "source": [
    "- Give the account an appropriate name, and under step 2 (Grant this service account access to project (optional)), choose \"Owner\" under the \"Select a Role\" dropdown.\n",
    "\n",
    "- Ignore step 3 and click \"Done\"."
   ]
  },
  {
   "cell_type": "markdown",
   "metadata": {
    "id": "Vs9LutadQMpD"
   },
   "source": [
    "Go to https://console.cloud.google.com/iam-admin/serviceaccounts to create a **service account key**. This will be downloaded to your computer so that you can connect to the BigQuery API via this Jupyter notebook.\n",
    "\n",
    "- Select your recently created project.\n",
    "- Click the email address of the service account.\n",
    "- Click the Keys tab.\n",
    "- Click the Add key drop-down menu, then select Create new key.\n",
    "- Select JSON as the Key type and click Create.\n",
    "- The keys will get saved to your computer.\n",
    "\n",
    "Note the location and copy the file path (of the json file) to somewhere safe, for future reference."
   ]
  },
  {
   "cell_type": "markdown",
   "metadata": {
    "id": "F4c4B7yHQMpH"
   },
   "source": [
    "See here for more information:\n",
    "\n",
    "Service Account creation: https://cloud.google.com/iam/docs/service-accounts-create#creating (under Console)\n",
    "\n",
    "Service Account key creation: https://cloud.google.com/iam/docs/keys-create-delete#iam-service-account-keys-create-console (under Console)\n"
   ]
  },
  {
   "cell_type": "markdown",
   "metadata": {
    "id": "LycUcpuhQMpK"
   },
   "source": [
    "### Using the Python API\n",
    "\n",
    "Google provides Python libraries for wrapping the Google APIs.\n",
    "\n",
    "Installing the \"google-cloud-bigquery\", \"google-cloud-storage\", and \"google-cloud-bigquery-storage\" libraries should cover all the dependencies for the BigQuery section of this lab."
   ]
  },
  {
   "cell_type": "code",
   "execution_count": 1,
   "metadata": {
    "execution": {
     "iopub.execute_input": "2025-06-11T04:28:21.426413Z",
     "iopub.status.busy": "2025-06-11T04:28:21.426413Z",
     "iopub.status.idle": "2025-06-11T04:28:21.429350Z",
     "shell.execute_reply": "2025-06-11T04:28:21.429350Z",
     "shell.execute_reply.started": "2025-06-11T04:28:21.426413Z"
    },
    "id": "OrjH1yqXxpwe"
   },
   "outputs": [
    {
     "data": {
      "text/plain": [
       "'\\n!pip install google-cloud-bigquery\\n!pip install google-cloud-storage\\n!pip install google-cloud-bigquery-storage \\n!pip install google-cloud-bigquery[pandas]\\n'"
      ]
     },
     "execution_count": 1,
     "metadata": {},
     "output_type": "execute_result"
    }
   ],
   "source": [
    "'''\n",
    "!pip install google-cloud-bigquery\n",
    "!pip install google-cloud-storage\n",
    "!pip install google-cloud-bigquery-storage \n",
    "!pip install google-cloud-bigquery[pandas]\n",
    "'''\n"
   ]
  },
  {
   "cell_type": "markdown",
   "metadata": {},
   "source": [
    "!pip install google-cloud-bigquery-storage # has additional capabilities for reading data from BigQuery using the BigQuery Storage API"
   ]
  },
  {
   "cell_type": "code",
   "execution_count": 2,
   "metadata": {
    "execution": {
     "iopub.execute_input": "2025-06-11T04:28:21.438387Z",
     "iopub.status.busy": "2025-06-11T04:28:21.438387Z",
     "iopub.status.idle": "2025-06-11T04:28:21.909069Z",
     "shell.execute_reply": "2025-06-11T04:28:21.909069Z",
     "shell.execute_reply.started": "2025-06-11T04:28:21.438387Z"
    },
    "id": "eKCOlUl8QMpL"
   },
   "outputs": [],
   "source": [
    "from google.cloud import bigquery\n",
    "from google.cloud import storage\n",
    "from google.cloud import bigquery_storage"
   ]
  },
  {
   "cell_type": "markdown",
   "metadata": {
    "id": "sJfytyHnQMpZ"
   },
   "source": [
    "Invoke a method of the `.Client` object that takes the path to your key files as a string argument:"
   ]
  },
  {
   "cell_type": "code",
   "execution_count": 3,
   "metadata": {
    "execution": {
     "iopub.execute_input": "2025-06-11T04:28:21.918118Z",
     "iopub.status.busy": "2025-06-11T04:28:21.918118Z",
     "iopub.status.idle": "2025-06-11T04:28:21.921643Z",
     "shell.execute_reply": "2025-06-11T04:28:21.921643Z",
     "shell.execute_reply.started": "2025-06-11T04:28:21.918118Z"
    },
    "id": "-L6z5aQRQMpZ"
   },
   "outputs": [],
   "source": [
    "key_path = r'resolute-mote-462623-v5-c4c05ed61421.json'          #: Change this to match your key filename"
   ]
  },
  {
   "cell_type": "markdown",
   "metadata": {
    "id": "00HRXCrbQMpb"
   },
   "source": [
    "This should not throw an error if key retrieval / assignment worked:"
   ]
  },
  {
   "cell_type": "code",
   "execution_count": 4,
   "metadata": {
    "execution": {
     "iopub.execute_input": "2025-06-11T04:28:21.931425Z",
     "iopub.status.busy": "2025-06-11T04:28:21.931425Z",
     "iopub.status.idle": "2025-06-11T04:28:21.960414Z",
     "shell.execute_reply": "2025-06-11T04:28:21.960414Z",
     "shell.execute_reply.started": "2025-06-11T04:28:21.931425Z"
    },
    "id": "EaI5dybYQMpc"
   },
   "outputs": [],
   "source": [
    "storage_client = storage.Client.from_service_account_json(key_path)"
   ]
  },
  {
   "cell_type": "markdown",
   "metadata": {
    "id": "XyF90p35QMpf"
   },
   "source": [
    "*Nb. The `storage` object was used in the above example, but there are other objects of interest that have polymorphic `Client` members that are used similarly, such as `bigquery`, which is used below.*"
   ]
  },
  {
   "cell_type": "markdown",
   "metadata": {
    "id": "U2ejMLo5QMpj"
   },
   "source": [
    "Next, execute this:"
   ]
  },
  {
   "cell_type": "code",
   "execution_count": 5,
   "metadata": {
    "execution": {
     "iopub.execute_input": "2025-06-11T04:28:21.976636Z",
     "iopub.status.busy": "2025-06-11T04:28:21.976636Z",
     "iopub.status.idle": "2025-06-11T04:28:22.007426Z",
     "shell.execute_reply": "2025-06-11T04:28:22.007426Z",
     "shell.execute_reply.started": "2025-06-11T04:28:21.976636Z"
    },
    "id": "Lwfj-eI5QMpk"
   },
   "outputs": [],
   "source": [
    "client = bigquery.Client.from_service_account_json(key_path)"
   ]
  },
  {
   "cell_type": "markdown",
   "metadata": {
    "id": "vpF3Gu-iQMpm"
   },
   "source": [
    "This client is associated with the default project (which was set or defaulted in the BigQuery UI):"
   ]
  },
  {
   "cell_type": "code",
   "execution_count": 6,
   "metadata": {
    "execution": {
     "iopub.execute_input": "2025-06-11T04:28:22.043868Z",
     "iopub.status.busy": "2025-06-11T04:28:22.042852Z",
     "iopub.status.idle": "2025-06-11T04:28:22.048356Z",
     "shell.execute_reply": "2025-06-11T04:28:22.046771Z",
     "shell.execute_reply.started": "2025-06-11T04:28:22.043868Z"
    },
    "id": "kO2v-luMQMpn"
   },
   "outputs": [
    {
     "data": {
      "text/plain": [
       "'resolute-mote-462623-v5'"
      ]
     },
     "execution_count": 6,
     "metadata": {},
     "output_type": "execute_result"
    }
   ],
   "source": [
    "client.project"
   ]
  },
  {
   "cell_type": "markdown",
   "metadata": {
    "id": "w_pX9XbnQMpr"
   },
   "source": [
    "A BigQuery project contains datasets. Datasets contain tables. To get at the data in a table we need to create a reference that covers this hierarchy; in the `bigquery` library this looks like `project.dataset.table`.  \n",
    "\n",
    "(Nb. Queries can be performed on projects and datasets, but most queries are performed on tables.)"
   ]
  },
  {
   "cell_type": "markdown",
   "metadata": {
    "id": "JyJVwEuyQMps"
   },
   "source": [
    "To explore the public datasets we will start by reassigning our `client` variable using optional `project` parameter (set to `bigquery-public-data`):"
   ]
  },
  {
   "cell_type": "code",
   "execution_count": 7,
   "metadata": {
    "execution": {
     "iopub.execute_input": "2025-06-11T04:28:22.062654Z",
     "iopub.status.busy": "2025-06-11T04:28:22.061390Z",
     "iopub.status.idle": "2025-06-11T04:28:22.092901Z",
     "shell.execute_reply": "2025-06-11T04:28:22.092384Z",
     "shell.execute_reply.started": "2025-06-11T04:28:22.062654Z"
    },
    "id": "cqpyCYo5QMps"
   },
   "outputs": [
    {
     "name": "stdout",
     "output_type": "stream",
     "text": [
      "bigquery-public-data\n"
     ]
    }
   ],
   "source": [
    "#project = 'bigquery-public-data'\n",
    "client = bigquery.Client.from_service_account_json(key_path, project = 'bigquery-public-data')\n",
    "print(client.project)"
   ]
  },
  {
   "cell_type": "markdown",
   "metadata": {
    "id": "MLI1MOiqQMpw"
   },
   "source": [
    "Here is how to get a list of the datasets in the current project:"
   ]
  },
  {
   "cell_type": "code",
   "execution_count": 8,
   "metadata": {
    "execution": {
     "iopub.execute_input": "2025-06-11T04:28:22.100636Z",
     "iopub.status.busy": "2025-06-11T04:28:22.099407Z",
     "iopub.status.idle": "2025-06-11T04:28:31.084835Z",
     "shell.execute_reply": "2025-06-11T04:28:31.084835Z",
     "shell.execute_reply.started": "2025-06-11T04:28:22.100636Z"
    },
    "id": "_81SBSwKQMpx"
   },
   "outputs": [
    {
     "name": "stdout",
     "output_type": "stream",
     "text": [
      "[<google.cloud.bigquery.dataset.DatasetListItem object at 0x0000023492E37BF0>, <google.cloud.bigquery.dataset.DatasetListItem object at 0x0000023492DB6600>, <google.cloud.bigquery.dataset.DatasetListItem object at 0x0000023491ECE930>, <google.cloud.bigquery.dataset.DatasetListItem object at 0x0000023492EFB290>, <google.cloud.bigquery.dataset.DatasetListItem object at 0x0000023492EF85F0>, <google.cloud.bigquery.dataset.DatasetListItem object at 0x0000023492EFA630>, <google.cloud.bigquery.dataset.DatasetListItem object at 0x0000023492EF96A0>, <google.cloud.bigquery.dataset.DatasetListItem object at 0x0000023492EF93A0>, <google.cloud.bigquery.dataset.DatasetListItem object at 0x0000023492EFB110>, <google.cloud.bigquery.dataset.DatasetListItem object at 0x0000023492EFBA10>, <google.cloud.bigquery.dataset.DatasetListItem object at 0x0000023492F41AF0>, <google.cloud.bigquery.dataset.DatasetListItem object at 0x0000023492F41B50>, <google.cloud.bigquery.dataset.DatasetListItem object at 0x0000023492F41A90>, <google.cloud.bigquery.dataset.DatasetListItem object at 0x0000023492F40C80>, <google.cloud.bigquery.dataset.DatasetListItem object at 0x0000023492F40350>, <google.cloud.bigquery.dataset.DatasetListItem object at 0x0000023492F40380>, <google.cloud.bigquery.dataset.DatasetListItem object at 0x0000023492F40D70>, <google.cloud.bigquery.dataset.DatasetListItem object at 0x0000023492F424B0>, <google.cloud.bigquery.dataset.DatasetListItem object at 0x0000023492F40F50>, <google.cloud.bigquery.dataset.DatasetListItem object at 0x0000023492F41CD0>, <google.cloud.bigquery.dataset.DatasetListItem object at 0x0000023492F402F0>, <google.cloud.bigquery.dataset.DatasetListItem object at 0x0000023492F41340>, <google.cloud.bigquery.dataset.DatasetListItem object at 0x0000023492F41550>, <google.cloud.bigquery.dataset.DatasetListItem object at 0x0000023492F40290>, <google.cloud.bigquery.dataset.DatasetListItem object at 0x0000023492F40C50>, <google.cloud.bigquery.dataset.DatasetListItem object at 0x0000023492F40B90>, <google.cloud.bigquery.dataset.DatasetListItem object at 0x0000023492F409E0>, <google.cloud.bigquery.dataset.DatasetListItem object at 0x0000023492F41E80>, <google.cloud.bigquery.dataset.DatasetListItem object at 0x0000023492F41EB0>, <google.cloud.bigquery.dataset.DatasetListItem object at 0x0000023492F41EE0>, <google.cloud.bigquery.dataset.DatasetListItem object at 0x0000023492F41F40>, <google.cloud.bigquery.dataset.DatasetListItem object at 0x0000023492F41F70>, <google.cloud.bigquery.dataset.DatasetListItem object at 0x0000023492F41FA0>, <google.cloud.bigquery.dataset.DatasetListItem object at 0x0000023492F41FD0>, <google.cloud.bigquery.dataset.DatasetListItem object at 0x0000023492F42000>, <google.cloud.bigquery.dataset.DatasetListItem object at 0x0000023492F42030>, <google.cloud.bigquery.dataset.DatasetListItem object at 0x0000023492F42060>, <google.cloud.bigquery.dataset.DatasetListItem object at 0x0000023492F42090>, <google.cloud.bigquery.dataset.DatasetListItem object at 0x0000023492F42120>, <google.cloud.bigquery.dataset.DatasetListItem object at 0x0000023492F42150>, <google.cloud.bigquery.dataset.DatasetListItem object at 0x0000023492F42180>, <google.cloud.bigquery.dataset.DatasetListItem object at 0x0000023492F421B0>, <google.cloud.bigquery.dataset.DatasetListItem object at 0x0000023492F421E0>, <google.cloud.bigquery.dataset.DatasetListItem object at 0x0000023492F42210>, <google.cloud.bigquery.dataset.DatasetListItem object at 0x0000023492F42240>, <google.cloud.bigquery.dataset.DatasetListItem object at 0x0000023492F42270>, <google.cloud.bigquery.dataset.DatasetListItem object at 0x0000023492F422A0>, <google.cloud.bigquery.dataset.DatasetListItem object at 0x0000023492F422D0>, <google.cloud.bigquery.dataset.DatasetListItem object at 0x0000023492F42300>, <google.cloud.bigquery.dataset.DatasetListItem object at 0x0000023492F42720>, <google.cloud.bigquery.dataset.DatasetListItem object at 0x00000234927366C0>, <google.cloud.bigquery.dataset.DatasetListItem object at 0x0000023492E92B10>, <google.cloud.bigquery.dataset.DatasetListItem object at 0x0000023492DB6F00>, <google.cloud.bigquery.dataset.DatasetListItem object at 0x0000023492E37FB0>, <google.cloud.bigquery.dataset.DatasetListItem object at 0x0000023492F427B0>, <google.cloud.bigquery.dataset.DatasetListItem object at 0x0000023492F42750>, <google.cloud.bigquery.dataset.DatasetListItem object at 0x0000023492F427E0>, <google.cloud.bigquery.dataset.DatasetListItem object at 0x0000023492F42810>, <google.cloud.bigquery.dataset.DatasetListItem object at 0x0000023492F429C0>, <google.cloud.bigquery.dataset.DatasetListItem object at 0x0000023492F42960>, <google.cloud.bigquery.dataset.DatasetListItem object at 0x0000023492F42990>, <google.cloud.bigquery.dataset.DatasetListItem object at 0x0000023492F42B40>, <google.cloud.bigquery.dataset.DatasetListItem object at 0x0000023492F42B70>, <google.cloud.bigquery.dataset.DatasetListItem object at 0x0000023492F42A20>, <google.cloud.bigquery.dataset.DatasetListItem object at 0x0000023492F429F0>, <google.cloud.bigquery.dataset.DatasetListItem object at 0x0000023492F42E70>, <google.cloud.bigquery.dataset.DatasetListItem object at 0x0000023492F403B0>, <google.cloud.bigquery.dataset.DatasetListItem object at 0x0000023492F40620>, <google.cloud.bigquery.dataset.DatasetListItem object at 0x0000023492F42930>, <google.cloud.bigquery.dataset.DatasetListItem object at 0x0000023492F40470>, <google.cloud.bigquery.dataset.DatasetListItem object at 0x0000023492F405C0>, <google.cloud.bigquery.dataset.DatasetListItem object at 0x0000023492F405F0>, <google.cloud.bigquery.dataset.DatasetListItem object at 0x0000023492F40560>, <google.cloud.bigquery.dataset.DatasetListItem object at 0x0000023492F40530>, <google.cloud.bigquery.dataset.DatasetListItem object at 0x0000023492F404A0>, <google.cloud.bigquery.dataset.DatasetListItem object at 0x0000023492F40A10>, <google.cloud.bigquery.dataset.DatasetListItem object at 0x0000023492F42E10>, <google.cloud.bigquery.dataset.DatasetListItem object at 0x0000023492F42DE0>, <google.cloud.bigquery.dataset.DatasetListItem object at 0x0000023492F42DB0>, <google.cloud.bigquery.dataset.DatasetListItem object at 0x0000023492F42D80>, <google.cloud.bigquery.dataset.DatasetListItem object at 0x0000023492F42C60>, <google.cloud.bigquery.dataset.DatasetListItem object at 0x0000023492F437D0>, <google.cloud.bigquery.dataset.DatasetListItem object at 0x0000023492F43800>, <google.cloud.bigquery.dataset.DatasetListItem object at 0x0000023492F43830>, <google.cloud.bigquery.dataset.DatasetListItem object at 0x0000023492F43860>, <google.cloud.bigquery.dataset.DatasetListItem object at 0x0000023492F43890>, <google.cloud.bigquery.dataset.DatasetListItem object at 0x0000023492F438C0>, <google.cloud.bigquery.dataset.DatasetListItem object at 0x0000023492F438F0>, <google.cloud.bigquery.dataset.DatasetListItem object at 0x0000023492F43920>, <google.cloud.bigquery.dataset.DatasetListItem object at 0x0000023492F43950>, <google.cloud.bigquery.dataset.DatasetListItem object at 0x0000023492F43980>, <google.cloud.bigquery.dataset.DatasetListItem object at 0x0000023492F439B0>, <google.cloud.bigquery.dataset.DatasetListItem object at 0x0000023492F439E0>, <google.cloud.bigquery.dataset.DatasetListItem object at 0x0000023492F43A10>, <google.cloud.bigquery.dataset.DatasetListItem object at 0x0000023492F43A40>, <google.cloud.bigquery.dataset.DatasetListItem object at 0x0000023492F43A70>, <google.cloud.bigquery.dataset.DatasetListItem object at 0x0000023492F43AA0>, <google.cloud.bigquery.dataset.DatasetListItem object at 0x0000023492F43AD0>, <google.cloud.bigquery.dataset.DatasetListItem object at 0x0000023492F43B00>, <google.cloud.bigquery.dataset.DatasetListItem object at 0x0000023492F43B30>, <google.cloud.bigquery.dataset.DatasetListItem object at 0x000002349210D550>, <google.cloud.bigquery.dataset.DatasetListItem object at 0x0000023490430830>, <google.cloud.bigquery.dataset.DatasetListItem object at 0x0000023492F42780>, <google.cloud.bigquery.dataset.DatasetListItem object at 0x0000023492F43BC0>, <google.cloud.bigquery.dataset.DatasetListItem object at 0x0000023492F43BF0>, <google.cloud.bigquery.dataset.DatasetListItem object at 0x0000023492F43C20>, <google.cloud.bigquery.dataset.DatasetListItem object at 0x0000023492F43E60>, <google.cloud.bigquery.dataset.DatasetListItem object at 0x0000023492F43E00>, <google.cloud.bigquery.dataset.DatasetListItem object at 0x0000023492F43DA0>, <google.cloud.bigquery.dataset.DatasetListItem object at 0x0000023492F43DD0>, <google.cloud.bigquery.dataset.DatasetListItem object at 0x0000023492F43FB0>, <google.cloud.bigquery.dataset.DatasetListItem object at 0x0000023492F43F80>, <google.cloud.bigquery.dataset.DatasetListItem object at 0x0000023492F43D70>, <google.cloud.bigquery.dataset.DatasetListItem object at 0x0000023492F43E30>, <google.cloud.bigquery.dataset.DatasetListItem object at 0x0000023492F43F20>, <google.cloud.bigquery.dataset.DatasetListItem object at 0x0000023492F40A70>, <google.cloud.bigquery.dataset.DatasetListItem object at 0x0000023492F42C90>, <google.cloud.bigquery.dataset.DatasetListItem object at 0x0000023492F42AE0>, <google.cloud.bigquery.dataset.DatasetListItem object at 0x0000023492F42C30>, <google.cloud.bigquery.dataset.DatasetListItem object at 0x0000023492F42C00>, <google.cloud.bigquery.dataset.DatasetListItem object at 0x0000023492F42BA0>, <google.cloud.bigquery.dataset.DatasetListItem object at 0x0000023492F42B10>, <google.cloud.bigquery.dataset.DatasetListItem object at 0x0000023492F42A50>, <google.cloud.bigquery.dataset.DatasetListItem object at 0x0000023492F42CC0>, <google.cloud.bigquery.dataset.DatasetListItem object at 0x0000023492F60320>, <google.cloud.bigquery.dataset.DatasetListItem object at 0x0000023492F602F0>, <google.cloud.bigquery.dataset.DatasetListItem object at 0x0000023492F602C0>, <google.cloud.bigquery.dataset.DatasetListItem object at 0x0000023492F60290>, <google.cloud.bigquery.dataset.DatasetListItem object at 0x0000023492F60260>, <google.cloud.bigquery.dataset.DatasetListItem object at 0x0000023492F60230>, <google.cloud.bigquery.dataset.DatasetListItem object at 0x0000023492F60110>, <google.cloud.bigquery.dataset.DatasetListItem object at 0x0000023492F609B0>, <google.cloud.bigquery.dataset.DatasetListItem object at 0x0000023492F609E0>, <google.cloud.bigquery.dataset.DatasetListItem object at 0x0000023492F60A10>, <google.cloud.bigquery.dataset.DatasetListItem object at 0x0000023492F60A40>, <google.cloud.bigquery.dataset.DatasetListItem object at 0x0000023492F60A70>, <google.cloud.bigquery.dataset.DatasetListItem object at 0x0000023492F60AA0>, <google.cloud.bigquery.dataset.DatasetListItem object at 0x0000023492F60AD0>, <google.cloud.bigquery.dataset.DatasetListItem object at 0x0000023492F60B00>, <google.cloud.bigquery.dataset.DatasetListItem object at 0x0000023492F60B30>, <google.cloud.bigquery.dataset.DatasetListItem object at 0x0000023492F60B60>, <google.cloud.bigquery.dataset.DatasetListItem object at 0x0000023492F60B90>, <google.cloud.bigquery.dataset.DatasetListItem object at 0x0000023492F60BC0>, <google.cloud.bigquery.dataset.DatasetListItem object at 0x0000023492F60BF0>, <google.cloud.bigquery.dataset.DatasetListItem object at 0x0000023492F60C20>, <google.cloud.bigquery.dataset.DatasetListItem object at 0x0000023492F60C50>, <google.cloud.bigquery.dataset.DatasetListItem object at 0x0000023492F60C80>, <google.cloud.bigquery.dataset.DatasetListItem object at 0x0000023492F60CB0>, <google.cloud.bigquery.dataset.DatasetListItem object at 0x0000023492F60CE0>, <google.cloud.bigquery.dataset.DatasetListItem object at 0x0000023492F60D10>, <google.cloud.bigquery.dataset.DatasetListItem object at 0x0000023492F43B90>, <google.cloud.bigquery.dataset.DatasetListItem object at 0x0000023492F43C80>, <google.cloud.bigquery.dataset.DatasetListItem object at 0x0000023492F43B60>, <google.cloud.bigquery.dataset.DatasetListItem object at 0x0000023492F43FE0>, <google.cloud.bigquery.dataset.DatasetListItem object at 0x0000023492F42D20>, <google.cloud.bigquery.dataset.DatasetListItem object at 0x0000023492F42D50>, <google.cloud.bigquery.dataset.DatasetListItem object at 0x0000023492F60D70>, <google.cloud.bigquery.dataset.DatasetListItem object at 0x0000023492F60DA0>, <google.cloud.bigquery.dataset.DatasetListItem object at 0x0000023492F60D40>, <google.cloud.bigquery.dataset.DatasetListItem object at 0x0000023492F60DD0>, <google.cloud.bigquery.dataset.DatasetListItem object at 0x0000023492F60E00>, <google.cloud.bigquery.dataset.DatasetListItem object at 0x0000023492F60FE0>, <google.cloud.bigquery.dataset.DatasetListItem object at 0x0000023492F60FB0>, <google.cloud.bigquery.dataset.DatasetListItem object at 0x0000023492F60F50>, <google.cloud.bigquery.dataset.DatasetListItem object at 0x0000023492F60F80>, <google.cloud.bigquery.dataset.DatasetListItem object at 0x0000023492F61160>, <google.cloud.bigquery.dataset.DatasetListItem object at 0x0000023492F611C0>, <google.cloud.bigquery.dataset.DatasetListItem object at 0x0000023492F61130>, <google.cloud.bigquery.dataset.DatasetListItem object at 0x0000023492F61040>, <google.cloud.bigquery.dataset.DatasetListItem object at 0x0000023492F61490>, <google.cloud.bigquery.dataset.DatasetListItem object at 0x0000023492F600E0>, <google.cloud.bigquery.dataset.DatasetListItem object at 0x0000023492F60F20>, <google.cloud.bigquery.dataset.DatasetListItem object at 0x0000023492F60080>, <google.cloud.bigquery.dataset.DatasetListItem object at 0x0000023492F60050>, <google.cloud.bigquery.dataset.DatasetListItem object at 0x0000023492F61100>, <google.cloud.bigquery.dataset.DatasetListItem object at 0x0000023492F60140>, <google.cloud.bigquery.dataset.DatasetListItem object at 0x0000023492F61460>, <google.cloud.bigquery.dataset.DatasetListItem object at 0x0000023492F61430>, <google.cloud.bigquery.dataset.DatasetListItem object at 0x0000023492F61400>, <google.cloud.bigquery.dataset.DatasetListItem object at 0x0000023492F613D0>, <google.cloud.bigquery.dataset.DatasetListItem object at 0x0000023492F612B0>, <google.cloud.bigquery.dataset.DatasetListItem object at 0x0000023492F61AC0>, <google.cloud.bigquery.dataset.DatasetListItem object at 0x0000023492F61AF0>, <google.cloud.bigquery.dataset.DatasetListItem object at 0x0000023492F61B20>, <google.cloud.bigquery.dataset.DatasetListItem object at 0x0000023492F61B50>, <google.cloud.bigquery.dataset.DatasetListItem object at 0x0000023492F61B80>, <google.cloud.bigquery.dataset.DatasetListItem object at 0x0000023492F61BB0>, <google.cloud.bigquery.dataset.DatasetListItem object at 0x0000023492F61BE0>, <google.cloud.bigquery.dataset.DatasetListItem object at 0x0000023492F61C10>, <google.cloud.bigquery.dataset.DatasetListItem object at 0x0000023492F61C40>, <google.cloud.bigquery.dataset.DatasetListItem object at 0x0000023492F61C70>, <google.cloud.bigquery.dataset.DatasetListItem object at 0x0000023492F61CA0>, <google.cloud.bigquery.dataset.DatasetListItem object at 0x0000023492F61CD0>, <google.cloud.bigquery.dataset.DatasetListItem object at 0x0000023492F61D00>, <google.cloud.bigquery.dataset.DatasetListItem object at 0x0000023492F61D30>, <google.cloud.bigquery.dataset.DatasetListItem object at 0x0000023492F61D60>, <google.cloud.bigquery.dataset.DatasetListItem object at 0x0000023492F61D90>, <google.cloud.bigquery.dataset.DatasetListItem object at 0x0000023492F61DC0>, <google.cloud.bigquery.dataset.DatasetListItem object at 0x0000023492F61DF0>, <google.cloud.bigquery.dataset.DatasetListItem object at 0x0000023492F61E20>, <google.cloud.bigquery.dataset.DatasetListItem object at 0x0000023492F43EC0>, <google.cloud.bigquery.dataset.DatasetListItem object at 0x0000023492F43EF0>, <google.cloud.bigquery.dataset.DatasetListItem object at 0x0000023492F42CF0>, <google.cloud.bigquery.dataset.DatasetListItem object at 0x0000023492F61EB0>, <google.cloud.bigquery.dataset.DatasetListItem object at 0x0000023492F61EE0>, <google.cloud.bigquery.dataset.DatasetListItem object at 0x0000023492F61F10>, <google.cloud.bigquery.dataset.DatasetListItem object at 0x0000023492F62120>, <google.cloud.bigquery.dataset.DatasetListItem object at 0x0000023492F620C0>, <google.cloud.bigquery.dataset.DatasetListItem object at 0x0000023492F62060>, <google.cloud.bigquery.dataset.DatasetListItem object at 0x0000023492F62090>, <google.cloud.bigquery.dataset.DatasetListItem object at 0x0000023492F62240>, <google.cloud.bigquery.dataset.DatasetListItem object at 0x0000023492F62270>, <google.cloud.bigquery.dataset.DatasetListItem object at 0x0000023492F62030>, <google.cloud.bigquery.dataset.DatasetListItem object at 0x0000023492F620F0>, <google.cloud.bigquery.dataset.DatasetListItem object at 0x0000023492F621E0>, <google.cloud.bigquery.dataset.DatasetListItem object at 0x0000023492F625A0>, <google.cloud.bigquery.dataset.DatasetListItem object at 0x0000023492F610A0>, <google.cloud.bigquery.dataset.DatasetListItem object at 0x0000023492F612E0>, <google.cloud.bigquery.dataset.DatasetListItem object at 0x0000023492F61070>, <google.cloud.bigquery.dataset.DatasetListItem object at 0x0000023492F60170>, <google.cloud.bigquery.dataset.DatasetListItem object at 0x0000023492F61280>, <google.cloud.bigquery.dataset.DatasetListItem object at 0x0000023492F61250>, <google.cloud.bigquery.dataset.DatasetListItem object at 0x0000023492F61220>, <google.cloud.bigquery.dataset.DatasetListItem object at 0x0000023492F611F0>, <google.cloud.bigquery.dataset.DatasetListItem object at 0x0000023492F61190>, <google.cloud.bigquery.dataset.DatasetListItem object at 0x0000023492F61310>, <google.cloud.bigquery.dataset.DatasetListItem object at 0x0000023492F62540>, <google.cloud.bigquery.dataset.DatasetListItem object at 0x0000023492F62510>, <google.cloud.bigquery.dataset.DatasetListItem object at 0x0000023492F624E0>, <google.cloud.bigquery.dataset.DatasetListItem object at 0x0000023492F624B0>, <google.cloud.bigquery.dataset.DatasetListItem object at 0x0000023492F62390>, <google.cloud.bigquery.dataset.DatasetListItem object at 0x0000023492F63230>, <google.cloud.bigquery.dataset.DatasetListItem object at 0x0000023492F63260>, <google.cloud.bigquery.dataset.DatasetListItem object at 0x0000023492F63290>, <google.cloud.bigquery.dataset.DatasetListItem object at 0x0000023492F632C0>, <google.cloud.bigquery.dataset.DatasetListItem object at 0x0000023492F632F0>, <google.cloud.bigquery.dataset.DatasetListItem object at 0x0000023492F63320>, <google.cloud.bigquery.dataset.DatasetListItem object at 0x0000023492F63350>, <google.cloud.bigquery.dataset.DatasetListItem object at 0x0000023492F63380>, <google.cloud.bigquery.dataset.DatasetListItem object at 0x0000023492F633B0>, <google.cloud.bigquery.dataset.DatasetListItem object at 0x0000023492F633E0>, <google.cloud.bigquery.dataset.DatasetListItem object at 0x0000023492F63410>, <google.cloud.bigquery.dataset.DatasetListItem object at 0x0000023492F63440>, <google.cloud.bigquery.dataset.DatasetListItem object at 0x0000023492F63470>, <google.cloud.bigquery.dataset.DatasetListItem object at 0x0000023492F634A0>, <google.cloud.bigquery.dataset.DatasetListItem object at 0x0000023492F634D0>, <google.cloud.bigquery.dataset.DatasetListItem object at 0x0000023492F63500>, <google.cloud.bigquery.dataset.DatasetListItem object at 0x0000023492F63530>, <google.cloud.bigquery.dataset.DatasetListItem object at 0x0000023492F63560>, <google.cloud.bigquery.dataset.DatasetListItem object at 0x0000023492F63590>, <google.cloud.bigquery.dataset.DatasetListItem object at 0x0000023492F61E80>, <google.cloud.bigquery.dataset.DatasetListItem object at 0x0000023492F61F40>, <google.cloud.bigquery.dataset.DatasetListItem object at 0x0000023492F61E50>, <google.cloud.bigquery.dataset.DatasetListItem object at 0x0000023492F63620>, <google.cloud.bigquery.dataset.DatasetListItem object at 0x0000023492F63650>, <google.cloud.bigquery.dataset.DatasetListItem object at 0x0000023492F63680>, <google.cloud.bigquery.dataset.DatasetListItem object at 0x0000023492F63860>, <google.cloud.bigquery.dataset.DatasetListItem object at 0x0000023492F63830>, <google.cloud.bigquery.dataset.DatasetListItem object at 0x0000023492F637D0>, <google.cloud.bigquery.dataset.DatasetListItem object at 0x0000023492F63800>, <google.cloud.bigquery.dataset.DatasetListItem object at 0x0000023492F639E0>, <google.cloud.bigquery.dataset.DatasetListItem object at 0x0000023492F63A40>, <google.cloud.bigquery.dataset.DatasetListItem object at 0x0000023492F637A0>, <google.cloud.bigquery.dataset.DatasetListItem object at 0x0000023492F62180>, <google.cloud.bigquery.dataset.DatasetListItem object at 0x0000023492F639B0>, <google.cloud.bigquery.dataset.DatasetListItem object at 0x0000023492F63D10>, <google.cloud.bigquery.dataset.DatasetListItem object at 0x0000023492F61340>, <google.cloud.bigquery.dataset.DatasetListItem object at 0x0000023492F623C0>, <google.cloud.bigquery.dataset.DatasetListItem object at 0x0000023492F63890>, <google.cloud.bigquery.dataset.DatasetListItem object at 0x0000023492F60200>, <google.cloud.bigquery.dataset.DatasetListItem object at 0x0000023492F62360>, <google.cloud.bigquery.dataset.DatasetListItem object at 0x0000023492F62330>, <google.cloud.bigquery.dataset.DatasetListItem object at 0x0000023492F62300>, <google.cloud.bigquery.dataset.DatasetListItem object at 0x0000023492F622A0>, <google.cloud.bigquery.dataset.DatasetListItem object at 0x0000023492F62210>, <google.cloud.bigquery.dataset.DatasetListItem object at 0x0000023492F623F0>, <google.cloud.bigquery.dataset.DatasetListItem object at 0x0000023492F63CB0>, <google.cloud.bigquery.dataset.DatasetListItem object at 0x0000023492F63C80>, <google.cloud.bigquery.dataset.DatasetListItem object at 0x0000023492F63C50>, <google.cloud.bigquery.dataset.DatasetListItem object at 0x0000023492F63C20>, <google.cloud.bigquery.dataset.DatasetListItem object at 0x0000023492F63B00>, <google.cloud.bigquery.dataset.DatasetListItem object at 0x0000023492F84740>, <google.cloud.bigquery.dataset.DatasetListItem object at 0x0000023492F84770>, <google.cloud.bigquery.dataset.DatasetListItem object at 0x0000023492F847A0>, <google.cloud.bigquery.dataset.DatasetListItem object at 0x0000023492F847D0>, <google.cloud.bigquery.dataset.DatasetListItem object at 0x0000023492F84800>, <google.cloud.bigquery.dataset.DatasetListItem object at 0x0000023492F84830>, <google.cloud.bigquery.dataset.DatasetListItem object at 0x0000023492F84860>, <google.cloud.bigquery.dataset.DatasetListItem object at 0x0000023492F84890>, <google.cloud.bigquery.dataset.DatasetListItem object at 0x0000023492F848C0>, <google.cloud.bigquery.dataset.DatasetListItem object at 0x0000023492F848F0>, <google.cloud.bigquery.dataset.DatasetListItem object at 0x0000023492F84920>, <google.cloud.bigquery.dataset.DatasetListItem object at 0x0000023492F84950>, <google.cloud.bigquery.dataset.DatasetListItem object at 0x0000023492F84980>, <google.cloud.bigquery.dataset.DatasetListItem object at 0x0000023492F849B0>, <google.cloud.bigquery.dataset.DatasetListItem object at 0x0000023492F849E0>, <google.cloud.bigquery.dataset.DatasetListItem object at 0x0000023492F84A10>, <google.cloud.bigquery.dataset.DatasetListItem object at 0x0000023492F84A40>, <google.cloud.bigquery.dataset.DatasetListItem object at 0x0000023492F84A70>, <google.cloud.bigquery.dataset.DatasetListItem object at 0x0000023492F84AA0>, <google.cloud.bigquery.dataset.DatasetListItem object at 0x0000023492F635F0>, <google.cloud.bigquery.dataset.DatasetListItem object at 0x0000023492F636E0>, <google.cloud.bigquery.dataset.DatasetListItem object at 0x0000023492F635C0>, <google.cloud.bigquery.dataset.DatasetListItem object at 0x0000023492F638F0>, <google.cloud.bigquery.dataset.DatasetListItem object at 0x0000023492F63B60>, <google.cloud.bigquery.dataset.DatasetListItem object at 0x0000023492F62420>, <google.cloud.bigquery.dataset.DatasetListItem object at 0x0000023492F62480>, <google.cloud.bigquery.dataset.DatasetListItem object at 0x0000023492F63AD0>, <google.cloud.bigquery.dataset.DatasetListItem object at 0x0000023492F63AA0>, <google.cloud.bigquery.dataset.DatasetListItem object at 0x0000023492F63A70>, <google.cloud.bigquery.dataset.DatasetListItem object at 0x0000023492F63A10>, <google.cloud.bigquery.dataset.DatasetListItem object at 0x0000023492F84B00>, <google.cloud.bigquery.dataset.DatasetListItem object at 0x0000023492F84B30>, <google.cloud.bigquery.dataset.DatasetListItem object at 0x0000023492F84AD0>, <google.cloud.bigquery.dataset.DatasetListItem object at 0x0000023492F84B60>, <google.cloud.bigquery.dataset.DatasetListItem object at 0x0000023492F84B90>, <google.cloud.bigquery.dataset.DatasetListItem object at 0x0000023492F84D70>, <google.cloud.bigquery.dataset.DatasetListItem object at 0x0000023492F84CE0>, <google.cloud.bigquery.dataset.DatasetListItem object at 0x0000023492F84D10>, <google.cloud.bigquery.dataset.DatasetListItem object at 0x0000023492F84D40>, <google.cloud.bigquery.dataset.DatasetListItem object at 0x0000023492F84F20>, <google.cloud.bigquery.dataset.DatasetListItem object at 0x0000023492F84F80>, <google.cloud.bigquery.dataset.DatasetListItem object at 0x0000023492F84DA0>, <google.cloud.bigquery.dataset.DatasetListItem object at 0x0000023492F84EF0>, <google.cloud.bigquery.dataset.DatasetListItem object at 0x0000023492F84CB0>, <google.cloud.bigquery.dataset.DatasetListItem object at 0x0000023492F85280>, <google.cloud.bigquery.dataset.DatasetListItem object at 0x0000023492F85250>, <google.cloud.bigquery.dataset.DatasetListItem object at 0x0000023492F84E00>, <google.cloud.bigquery.dataset.DatasetListItem object at 0x0000023492F85220>, <google.cloud.bigquery.dataset.DatasetListItem object at 0x0000023492F851F0>, <google.cloud.bigquery.dataset.DatasetListItem object at 0x0000023492F851C0>, <google.cloud.bigquery.dataset.DatasetListItem object at 0x0000023492F850A0>, <google.cloud.bigquery.dataset.DatasetListItem object at 0x0000023492F84EC0>, <google.cloud.bigquery.dataset.DatasetListItem object at 0x0000023492F85A30>, <google.cloud.bigquery.dataset.DatasetListItem object at 0x0000023492F85A60>, <google.cloud.bigquery.dataset.DatasetListItem object at 0x0000023492F85A90>, <google.cloud.bigquery.dataset.DatasetListItem object at 0x0000023492F85AC0>, <google.cloud.bigquery.dataset.DatasetListItem object at 0x0000023492F85AF0>, <google.cloud.bigquery.dataset.DatasetListItem object at 0x0000023492F85B20>, <google.cloud.bigquery.dataset.DatasetListItem object at 0x0000023492F85B50>, <google.cloud.bigquery.dataset.DatasetListItem object at 0x0000023492F85B80>, <google.cloud.bigquery.dataset.DatasetListItem object at 0x0000023492F85BB0>]\n"
     ]
    }
   ],
   "source": [
    "datasets = list(client.list_datasets())\n",
    "print(datasets)"
   ]
  },
  {
   "cell_type": "markdown",
   "metadata": {
    "id": "WsLMF5p_QMp2"
   },
   "source": [
    "That wasn't helpful. We need to go deeper into the object structure to get at something meaningful. Below is a function that exploits the `format` method of `project` and `dataset_id`, providing an easy way to list datasets:"
   ]
  },
  {
   "cell_type": "code",
   "execution_count": 9,
   "metadata": {
    "execution": {
     "iopub.execute_input": "2025-06-11T04:28:31.094345Z",
     "iopub.status.busy": "2025-06-11T04:28:31.094345Z",
     "iopub.status.idle": "2025-06-11T04:28:31.098120Z",
     "shell.execute_reply": "2025-06-11T04:28:31.098120Z",
     "shell.execute_reply.started": "2025-06-11T04:28:31.094345Z"
    },
    "id": "afIVw6FNQMp6"
   },
   "outputs": [],
   "source": [
    "# function for listing datasets in a project:\n",
    "def printDatasetList(client):\n",
    "    project = client.project    #: only one project can be associated with a client instance\n",
    "    datasets = list(client.list_datasets())\n",
    "    if datasets:\n",
    "        print('Datasets in project {}:'.format(project))\n",
    "        for dataset in datasets:\n",
    "            print('\\t{}'.format(dataset.dataset_id))\n",
    "        found = True\n",
    "    else:\n",
    "        print('{} project does not contain any datasets.'.format(project))\n",
    "        found = False\n",
    "    return found"
   ]
  },
  {
   "cell_type": "code",
   "execution_count": 10,
   "metadata": {
    "execution": {
     "iopub.execute_input": "2025-06-11T04:28:31.099508Z",
     "iopub.status.busy": "2025-06-11T04:28:31.099508Z",
     "iopub.status.idle": "2025-06-11T04:28:41.668798Z",
     "shell.execute_reply": "2025-06-11T04:28:41.668798Z",
     "shell.execute_reply.started": "2025-06-11T04:28:31.099508Z"
    },
    "id": "LHsC_THYQMp7"
   },
   "outputs": [
    {
     "name": "stdout",
     "output_type": "stream",
     "text": [
      "Datasets in project bigquery-public-data:\n",
      "\tamerica_health_rankings\n",
      "\taustin_311\n",
      "\taustin_bikeshare\n",
      "\taustin_crime\n",
      "\taustin_incidents\n",
      "\taustin_waste\n",
      "\tbaseball\n",
      "\tbbc_news\n",
      "\tbigqueryml_ncaa\n",
      "\tbitcoin_blockchain\n",
      "\tblackhole_database\n",
      "\tblockchain_analytics_ethereum_mainnet_us\n",
      "\tbls\n",
      "\tbls_qcew\n",
      "\tbreathe\n",
      "\tbroadstreet_adi\n",
      "\tcatalonian_mobile_coverage\n",
      "\tcatalonian_mobile_coverage_eu\n",
      "\tcensus_bureau_acs\n",
      "\tcensus_bureau_construction\n",
      "\tcensus_bureau_international\n",
      "\tcensus_bureau_usa\n",
      "\tcensus_opportunity_atlas\n",
      "\tcensus_utility\n",
      "\tcfpb_complaints\n",
      "\tchicago_crime\n",
      "\tchicago_taxi_trips\n",
      "\tclemson_dice\n",
      "\tcloud_storage_geo_index\n",
      "\tcms_codes\n",
      "\tcms_medicare\n",
      "\tcms_synthetic_patient_data_omop\n",
      "\tcountry_codes\n",
      "\tcovid19_aha\n",
      "\tcovid19_covidtracking\n",
      "\tcovid19_ecdc\n",
      "\tcovid19_ecdc_eu\n",
      "\tcovid19_genome_sequence\n",
      "\tcovid19_geotab_mobility_impact\n",
      "\tcovid19_geotab_mobility_impact_eu\n",
      "\tcovid19_google_mobility\n",
      "\tcovid19_google_mobility_eu\n",
      "\tcovid19_govt_response\n",
      "\tcovid19_italy\n",
      "\tcovid19_italy_eu\n",
      "\tcovid19_jhu_csse\n",
      "\tcovid19_jhu_csse_eu\n",
      "\tcovid19_nyt\n",
      "\tcovid19_open_data\n",
      "\tcovid19_open_data_eu\n",
      "\tcovid19_public_forecasts\n",
      "\tcovid19_public_forecasts_asia_ne1\n",
      "\tcovid19_rxrx19\n",
      "\tcovid19_symptom_search\n",
      "\tcovid19_tracking\n",
      "\tcovid19_usafacts\n",
      "\tcovid19_vaccination_access\n",
      "\tcovid19_vaccination_search_insights\n",
      "\tcovid19_weathersource_com\n",
      "\tcrypto_aptos_mainnet_us\n",
      "\tcrypto_aptos_testnet_us\n",
      "\tcrypto_band\n",
      "\tcrypto_bitcoin\n",
      "\tcrypto_bitcoin_cash\n",
      "\tcrypto_dash\n",
      "\tcrypto_dogecoin\n",
      "\tcrypto_ethereum\n",
      "\tcrypto_ethereum_classic\n",
      "\tcrypto_iotex\n",
      "\tcrypto_kusama\n",
      "\tcrypto_litecoin\n",
      "\tcrypto_multiversx_mainnet_eu\n",
      "\tcrypto_near_mainnet_us\n",
      "\tcrypto_polkadot\n",
      "\tcrypto_polygon\n",
      "\tcrypto_solana_mainnet_us\n",
      "\tcrypto_sui_mainnet_us\n",
      "\tcrypto_tezos\n",
      "\tcrypto_theta\n",
      "\tcrypto_zcash\n",
      "\tcrypto_zilliqa\n",
      "\tcymbal_investments\n",
      "\tdataflix_covid\n",
      "\tdataflix_traffic_safety\n",
      "\tdeepmind_alphafold\n",
      "\tdeps_dev_v1\n",
      "\tdimensions_ai_covid19\n",
      "\tebi_chembl\n",
      "\tebi_mgnify\n",
      "\tebi_surechembl\n",
      "\teclipse_megamovie\n",
      "\tepa_historical_air_quality\n",
      "\tethereum_blockchain\n",
      "\tetsi_technical_standards\n",
      "\tfaa\n",
      "\tfcc_political_ads\n",
      "\tfda_drug\n",
      "\tfda_food\n",
      "\tfdic_banks\n",
      "\tfec\n",
      "\tfhir_synthea\n",
      "\tga4_obfuscated_sample_ecommerce\n",
      "\tgbif\n",
      "\tgdelt_hathitrustbooks\n",
      "\tgdelt_internetarchivebooks\n",
      "\tgenomics_cannabis\n",
      "\tgenomics_rice\n",
      "\tgeo_census_blockgroups\n",
      "\tgeo_census_tracts\n",
      "\tgeo_international_ports\n",
      "\tgeo_openstreetmap\n",
      "\tgeo_us_boundaries\n",
      "\tgeo_us_census_places\n",
      "\tgeo_us_roads\n",
      "\tgeo_whos_on_first\n",
      "\tghcn_d\n",
      "\tghcn_m\n",
      "\tgithub_repos\n",
      "\tgnomAD\n",
      "\tgnomAD_asiane1\n",
      "\tgnomAD_eu\n",
      "\tgoog_blockchain_arbitrum_one_us\n",
      "\tgoog_blockchain_avalanche_contract_chain_us\n",
      "\tgoog_blockchain_cronos_mainnet_us\n",
      "\tgoog_blockchain_ethereum_goerli_us\n",
      "\tgoog_blockchain_ethereum_mainnet_us\n",
      "\tgoog_blockchain_fantom_opera_us\n",
      "\tgoog_blockchain_optimism_mainnet_us\n",
      "\tgoog_blockchain_polygon_mainnet_us\n",
      "\tgoog_blockchain_tron_mainnet_us\n",
      "\tgoogle_ads\n",
      "\tgoogle_ads_geo_mapping_asia_east1\n",
      "\tgoogle_ads_geo_mapping_asia_east2\n",
      "\tgoogle_ads_geo_mapping_asia_northeast1\n",
      "\tgoogle_ads_geo_mapping_asia_northeast2\n",
      "\tgoogle_ads_geo_mapping_asia_northeast3\n",
      "\tgoogle_ads_geo_mapping_asia_south1\n",
      "\tgoogle_ads_geo_mapping_asia_south2\n",
      "\tgoogle_ads_geo_mapping_asia_southeast1\n",
      "\tgoogle_ads_geo_mapping_asia_southeast2\n",
      "\tgoogle_ads_geo_mapping_australia_southeast1\n",
      "\tgoogle_ads_geo_mapping_australia_southeast2\n",
      "\tgoogle_ads_geo_mapping_eu\n",
      "\tgoogle_ads_geo_mapping_europe_central2\n",
      "\tgoogle_ads_geo_mapping_europe_north1\n",
      "\tgoogle_ads_geo_mapping_europe_southwest1\n",
      "\tgoogle_ads_geo_mapping_europe_west1\n",
      "\tgoogle_ads_geo_mapping_europe_west12\n",
      "\tgoogle_ads_geo_mapping_europe_west2\n",
      "\tgoogle_ads_geo_mapping_europe_west3\n",
      "\tgoogle_ads_geo_mapping_europe_west4\n",
      "\tgoogle_ads_geo_mapping_europe_west6\n",
      "\tgoogle_ads_geo_mapping_europe_west8\n",
      "\tgoogle_ads_geo_mapping_europe_west9\n",
      "\tgoogle_ads_geo_mapping_me_central1\n",
      "\tgoogle_ads_geo_mapping_me_central2\n",
      "\tgoogle_ads_geo_mapping_me_west1\n",
      "\tgoogle_ads_geo_mapping_northamerica_northeast1\n",
      "\tgoogle_ads_geo_mapping_northamerica_northeast2\n",
      "\tgoogle_ads_geo_mapping_southamerica_east1\n",
      "\tgoogle_ads_geo_mapping_southamerica_west1\n",
      "\tgoogle_ads_geo_mapping_us\n",
      "\tgoogle_ads_geo_mapping_us_central1\n",
      "\tgoogle_ads_geo_mapping_us_central2\n",
      "\tgoogle_ads_geo_mapping_us_east1\n",
      "\tgoogle_ads_geo_mapping_us_east4\n",
      "\tgoogle_ads_geo_mapping_us_east5\n",
      "\tgoogle_ads_geo_mapping_us_south1\n",
      "\tgoogle_ads_geo_mapping_us_west1\n",
      "\tgoogle_ads_geo_mapping_us_west2\n",
      "\tgoogle_ads_geo_mapping_us_west3\n",
      "\tgoogle_ads_geo_mapping_us_west4\n",
      "\tgoogle_ads_transparency_center\n",
      "\tgoogle_analytics_sample\n",
      "\tgoogle_books_ngrams_2020\n",
      "\tgoogle_cfe\n",
      "\tgoogle_cloud_release_notes\n",
      "\tgoogle_dei\n",
      "\tgoogle_patents_research\n",
      "\tgoogle_political_ads\n",
      "\tgoogle_trends\n",
      "\tgretel_synthetic_text_to_sql\n",
      "\tgrid_ac\n",
      "\thacker_news\n",
      "\thud_zipcode_crosswalk\n",
      "\thuman_genome_variants\n",
      "\thuman_variant_annotation\n",
      "\tidc_current\n",
      "\tidc_current_clinical\n",
      "\tidc_v1\n",
      "\tidc_v10\n",
      "\tidc_v11\n",
      "\tidc_v11_clinical\n",
      "\tidc_v12\n",
      "\tidc_v12_clinical\n",
      "\tidc_v13\n",
      "\tidc_v13_clinical\n",
      "\tidc_v14\n",
      "\tidc_v14_clinical\n",
      "\tidc_v15\n",
      "\tidc_v15_clinical\n",
      "\tidc_v16\n",
      "\tidc_v16_clinical\n",
      "\tidc_v17\n",
      "\tidc_v17_clinical\n",
      "\tidc_v18\n",
      "\tidc_v18_clinical\n",
      "\tidc_v19\n",
      "\tidc_v19_clinical\n",
      "\tidc_v2\n",
      "\tidc_v20\n",
      "\tidc_v20_clinical\n",
      "\tidc_v21\n",
      "\tidc_v21_clinical\n",
      "\tidc_v3\n",
      "\tidc_v4\n",
      "\tidc_v5\n",
      "\tidc_v6\n",
      "\tidc_v7\n",
      "\tidc_v8\n",
      "\tidc_v9\n",
      "\timdb\n",
      "\timmune_epitope_db\n",
      "\tiowa_liquor_sales\n",
      "\tiowa_liquor_sales_forecasting\n",
      "\tirs_990\n",
      "\tlabeled_patents\n",
      "\tlibraries_io\n",
      "\tlistenbrainz\n",
      "\tlondon_bicycles\n",
      "\tlondon_crime\n",
      "\tlondon_fire_brigade\n",
      "\tmarec\n",
      "\tmedicare\n",
      "\tml_datasets\n",
      "\tml_datasets_uscentral1\n",
      "\tmodis_terra_net_primary_production\n",
      "\tmoon_phases\n",
      "\tmultilingual_spoken_words_corpus\n",
      "\tnasa_wildfire\n",
      "\tnational_water_model\n",
      "\tncaa_basketball\n",
      "\tnces_ipeds\n",
      "\tnew_york\n",
      "\tnew_york_311\n",
      "\tnew_york_citibike\n",
      "\tnew_york_mv_collisions\n",
      "\tnew_york_subway\n",
      "\tnew_york_taxi_trips\n",
      "\tnew_york_trees\n",
      "\tnhtsa_traffic_fatalities\n",
      "\tnih_gudid\n",
      "\tnih_sequence_read\n",
      "\tnlm_rxnorm\n",
      "\tnoaa_global_forecast_system\n",
      "\tnoaa_goes16\n",
      "\tnoaa_goes17\n",
      "\tnoaa_gsod\n",
      "\tnoaa_historic_severe_storms\n",
      "\tnoaa_hurricanes\n",
      "\tnoaa_icoads\n",
      "\tnoaa_lightning\n",
      "\tnoaa_nwm\n",
      "\tnoaa_passive_acoustic_index\n",
      "\tnoaa_passive_bioacoustic\n",
      "\tnoaa_pifsc_metadata\n",
      "\tnoaa_preliminary_severe_storms\n",
      "\tnoaa_significant_earthquakes\n",
      "\tnoaa_tsunami\n",
      "\tnppes\n",
      "\tnrel_nsrdb\n",
      "\topen_buildings\n",
      "\topen_images\n",
      "\topen_targets_genetics\n",
      "\topen_targets_platform\n",
      "\topenaq\n",
      "\toverture_maps\n",
      "\tpatents\n",
      "\tpatents_cpc\n",
      "\tpatents_dsep\n",
      "\tpatents_view\n",
      "\tpersistent_udfs\n",
      "\tproperati_properties_ar\n",
      "\tproperati_properties_br\n",
      "\tproperati_properties_cl\n",
      "\tproperati_properties_co\n",
      "\tproperati_properties_mx\n",
      "\tproperati_properties_pe\n",
      "\tproperati_properties_uy\n",
      "\tpypi\n",
      "\trekor\n",
      "\tsamples\n",
      "\tsan_francisco\n",
      "\tsan_francisco_311\n",
      "\tsan_francisco_bikeshare\n",
      "\tsan_francisco_film_locations\n",
      "\tsan_francisco_neighborhoods\n",
      "\tsan_francisco_sffd_service_calls\n",
      "\tsan_francisco_sfpd_incidents\n",
      "\tsan_francisco_transit_muni\n",
      "\tsan_francisco_trees\n",
      "\tsdoh_bea_cainc30\n",
      "\tsdoh_cdc_wonder_natality\n",
      "\tsdoh_cms_dual_eligible_enrollment\n",
      "\tsdoh_hrsa_shortage_areas\n",
      "\tsdoh_hud_housing\n",
      "\tsdoh_hud_pit_homelessness\n",
      "\tsdoh_snap_enrollment\n",
      "\tsec_quarterly_financials\n",
      "\tstackoverflow\n",
      "\tsunroof_solar\n",
      "\tthe_general_index\n",
      "\tthe_met\n",
      "\tthelook_ecommerce\n",
      "\ttpc_ds_10t\n",
      "\tucb_fung_patent_data\n",
      "\tumiami_lincs\n",
      "\tun_sdg\n",
      "\tus_res_real_est_data\n",
      "\tusa_contagious_disease\n",
      "\tusa_names\n",
      "\tusda_nass_agriculture\n",
      "\tusfs_fia\n",
      "\tusitc_investigations\n",
      "\tuspto_oce_assignment\n",
      "\tuspto_oce_cancer\n",
      "\tuspto_oce_claims\n",
      "\tuspto_oce_litigation\n",
      "\tuspto_oce_office_actions\n",
      "\tuspto_oce_pair\n",
      "\tuspto_ptab\n",
      "\tutility_eu\n",
      "\tutility_us\n",
      "\twikipedia\n",
      "\twise_all_sky_data_release\n",
      "\tworld_bank_global_population\n",
      "\tworld_bank_health_population\n",
      "\tworld_bank_intl_debt\n",
      "\tworld_bank_intl_education\n",
      "\tworld_bank_wdi\n",
      "\tworldbank_wdi\n",
      "\tworldpop\n"
     ]
    }
   ],
   "source": [
    "# list datasets in the default project:\n",
    "flag = printDatasetList(client)  #: assigning to `flag` suppresses printing the return value (normally `True`)"
   ]
  },
  {
   "cell_type": "markdown",
   "metadata": {
    "id": "PUB7M5KEQMp-"
   },
   "source": [
    "This list should correspond to what is shown here https://bigquery.cloud.google.com/publicdatasets under the **bigquery-public-data** item."
   ]
  },
  {
   "cell_type": "markdown",
   "metadata": {
    "id": "1eGTZqizQMp-"
   },
   "source": [
    "Here is how to create a dataset reference object by assigning a project and a dataset name:"
   ]
  },
  {
   "cell_type": "code",
   "execution_count": 11,
   "metadata": {
    "execution": {
     "iopub.execute_input": "2025-06-11T04:28:41.689716Z",
     "iopub.status.busy": "2025-06-11T04:28:41.689716Z",
     "iopub.status.idle": "2025-06-11T04:28:41.692099Z",
     "shell.execute_reply": "2025-06-11T04:28:41.692099Z",
     "shell.execute_reply.started": "2025-06-11T04:28:41.689716Z"
    },
    "id": "Rja9NOTyQMp_"
   },
   "outputs": [],
   "source": [
    "dataset_id = 'samples'\n",
    "dataset_ref = client.dataset(dataset_id)"
   ]
  },
  {
   "cell_type": "markdown",
   "metadata": {
    "id": "wVeBwg8JQMqB"
   },
   "source": [
    "If our current project was something other than `bigquery-public-data`, we could still create this reference by specifying the project that contains the dataset:"
   ]
  },
  {
   "cell_type": "code",
   "execution_count": 12,
   "metadata": {
    "execution": {
     "iopub.execute_input": "2025-06-11T04:28:41.699309Z",
     "iopub.status.busy": "2025-06-11T04:28:41.699309Z",
     "iopub.status.idle": "2025-06-11T04:28:41.705254Z",
     "shell.execute_reply": "2025-06-11T04:28:41.705254Z",
     "shell.execute_reply.started": "2025-06-11T04:28:41.699309Z"
    },
    "id": "pUcHVtXYQMqB"
   },
   "outputs": [],
   "source": [
    "dataset_id = 'samples'\n",
    "dataset_ref = client.dataset(dataset_id, project = 'bigquery-public-data')"
   ]
  },
  {
   "cell_type": "markdown",
   "metadata": {
    "id": "JfrckJFYQMqE"
   },
   "source": [
    "How can we get the path of the dataset?"
   ]
  },
  {
   "cell_type": "code",
   "execution_count": 13,
   "metadata": {
    "execution": {
     "iopub.execute_input": "2025-06-11T04:28:41.714827Z",
     "iopub.status.busy": "2025-06-11T04:28:41.714827Z",
     "iopub.status.idle": "2025-06-11T04:28:41.717330Z",
     "shell.execute_reply": "2025-06-11T04:28:41.717330Z",
     "shell.execute_reply.started": "2025-06-11T04:28:41.714827Z"
    },
    "id": "aqKCkd8zQMqE"
   },
   "outputs": [
    {
     "name": "stdout",
     "output_type": "stream",
     "text": [
      "/projects/bigquery-public-data/datasets/samples\n"
     ]
    }
   ],
   "source": [
    "#ANSWER:\n",
    "print(dataset_ref.path)"
   ]
  },
  {
   "cell_type": "markdown",
   "metadata": {
    "id": "fz7DDChLQMqH"
   },
   "source": [
    "Explore more of this object's members:\n",
    "\n",
    "*(HINT: You can type `dataset_ref.` in a new line, then hit the [Tab] key to see the available members for the object.)*"
   ]
  },
  {
   "cell_type": "code",
   "execution_count": 14,
   "metadata": {
    "execution": {
     "iopub.execute_input": "2025-06-11T04:28:41.728529Z",
     "iopub.status.busy": "2025-06-11T04:28:41.728529Z",
     "iopub.status.idle": "2025-06-11T04:28:41.730883Z",
     "shell.execute_reply": "2025-06-11T04:28:41.730883Z",
     "shell.execute_reply.started": "2025-06-11T04:28:41.728529Z"
    },
    "id": "_UJplaMnQMqH"
   },
   "outputs": [],
   "source": [
    "#?\n",
    "#dataset_ref."
   ]
  },
  {
   "cell_type": "markdown",
   "metadata": {
    "id": "DBPXcGciQMqJ"
   },
   "source": [
    "Here is a function for listing the tables in a dataset:"
   ]
  },
  {
   "cell_type": "code",
   "execution_count": 15,
   "metadata": {
    "execution": {
     "iopub.execute_input": "2025-06-11T04:28:41.740857Z",
     "iopub.status.busy": "2025-06-11T04:28:41.740857Z",
     "iopub.status.idle": "2025-06-11T04:28:41.743830Z",
     "shell.execute_reply": "2025-06-11T04:28:41.743830Z",
     "shell.execute_reply.started": "2025-06-11T04:28:41.740857Z"
    },
    "id": "yLvSI1HiQMqK"
   },
   "outputs": [],
   "source": [
    "# function for listing tables in a dataset:\n",
    "def printTableList(client, dataset_id):\n",
    "    project = client.project\n",
    "    dataset_ref = client.dataset(dataset_id, project = project)\n",
    "    tables = list(client.list_tables(dataset_ref))\n",
    "    if tables:\n",
    "        print('Tables in dataset {}:'.format(dataset_id))\n",
    "        for table in tables:\n",
    "            print('\\t{}'.format(table.table_id))\n",
    "        found = True\n",
    "    else:\n",
    "        print('{} dataset does not contain any tables.'.format(dataset_id))\n",
    "        found = False\n",
    "    return found"
   ]
  },
  {
   "cell_type": "markdown",
   "metadata": {
    "id": "a-K9gx_ZQMqL"
   },
   "source": [
    "Use this function to list the tables in the current dataset:"
   ]
  },
  {
   "cell_type": "code",
   "execution_count": 16,
   "metadata": {
    "execution": {
     "iopub.execute_input": "2025-06-11T04:28:41.752920Z",
     "iopub.status.busy": "2025-06-11T04:28:41.752920Z",
     "iopub.status.idle": "2025-06-11T04:28:42.093822Z",
     "shell.execute_reply": "2025-06-11T04:28:42.093822Z",
     "shell.execute_reply.started": "2025-06-11T04:28:41.752920Z"
    },
    "id": "iQVbZwLRQMqL"
   },
   "outputs": [
    {
     "name": "stdout",
     "output_type": "stream",
     "text": [
      "Tables in dataset samples:\n",
      "\tgithub_nested\n",
      "\tgithub_timeline\n",
      "\tgsod\n",
      "\tnatality\n",
      "\tshakespeare\n",
      "\ttrigrams\n",
      "\twikipedia\n"
     ]
    },
    {
     "data": {
      "text/plain": [
       "True"
      ]
     },
     "execution_count": 16,
     "metadata": {},
     "output_type": "execute_result"
    }
   ],
   "source": [
    "#ANSWER\n",
    "printTableList(client, dataset_id)"
   ]
  },
  {
   "cell_type": "markdown",
   "metadata": {
    "id": "F6CzLw6YQMqN"
   },
   "source": [
    "To create a reference to a table within the dataset, we use the `table_id` attribute:"
   ]
  },
  {
   "cell_type": "code",
   "execution_count": 17,
   "metadata": {
    "execution": {
     "iopub.execute_input": "2025-06-11T04:28:42.100853Z",
     "iopub.status.busy": "2025-06-11T04:28:42.100853Z",
     "iopub.status.idle": "2025-06-11T04:28:42.103789Z",
     "shell.execute_reply": "2025-06-11T04:28:42.103789Z",
     "shell.execute_reply.started": "2025-06-11T04:28:42.100853Z"
    },
    "id": "OIAuOmziQMqO"
   },
   "outputs": [],
   "source": [
    "table_id = 'shakespeare'\n",
    "table_ref = dataset_ref.table(table_id)"
   ]
  },
  {
   "cell_type": "markdown",
   "metadata": {
    "id": "A7LCWxz9QMqQ"
   },
   "source": [
    "To access the data in the table itself, we use the `get_table()` method:"
   ]
  },
  {
   "cell_type": "code",
   "execution_count": 18,
   "metadata": {
    "execution": {
     "iopub.execute_input": "2025-06-11T04:28:42.113269Z",
     "iopub.status.busy": "2025-06-11T04:28:42.113269Z",
     "iopub.status.idle": "2025-06-11T04:28:42.457920Z",
     "shell.execute_reply": "2025-06-11T04:28:42.457920Z",
     "shell.execute_reply.started": "2025-06-11T04:28:42.113269Z"
    },
    "id": "l0-fX9j0QMqR"
   },
   "outputs": [],
   "source": [
    "table = client.get_table(table_ref)  # API Request"
   ]
  },
  {
   "cell_type": "markdown",
   "metadata": {
    "id": "TuWzIYpEQMqS"
   },
   "source": [
    "NOTE: The contents of the table are not actually in our memory after this call! We are working with a Big Data platform, now, and we could easily end up pulling GBs or TBs of data by accident.\n",
    "\n",
    "To minimise data bandwidth, memory consumption, and processing time, Big Data platforms employ ***lazy evaluation***. This means that no computation or data transfer actually takes place until we *realise* (use) the data. Even if we execute subsequent code that performs calculations on the data, no data flow or computation actually occurs until we request output (e.g. by executing a print to stdout or writing to a file)."
   ]
  },
  {
   "cell_type": "markdown",
   "metadata": {
    "id": "A5sefu0lQMqS"
   },
   "source": [
    "What kind of object is returned by `client.get_table`?"
   ]
  },
  {
   "cell_type": "code",
   "execution_count": 19,
   "metadata": {
    "execution": {
     "iopub.execute_input": "2025-06-11T04:28:42.482426Z",
     "iopub.status.busy": "2025-06-11T04:28:42.482426Z",
     "iopub.status.idle": "2025-06-11T04:28:42.800601Z",
     "shell.execute_reply": "2025-06-11T04:28:42.800601Z",
     "shell.execute_reply.started": "2025-06-11T04:28:42.482426Z"
    },
    "id": "kF-aRGZsQMqS"
   },
   "outputs": [
    {
     "name": "stdout",
     "output_type": "stream",
     "text": [
      "<class 'google.cloud.bigquery.table.Table'>\n"
     ]
    }
   ],
   "source": [
    "#ANSWER:\n",
    "print(type(client.get_table(table_ref)))"
   ]
  },
  {
   "cell_type": "markdown",
   "metadata": {
    "id": "fPiGLOjnQMqU"
   },
   "source": [
    "How can we view the design of the table (column names and types)? The name of the object attribute we need is the same term we learned in the module on databases:"
   ]
  },
  {
   "cell_type": "code",
   "execution_count": 20,
   "metadata": {
    "execution": {
     "iopub.execute_input": "2025-06-11T04:28:42.810326Z",
     "iopub.status.busy": "2025-06-11T04:28:42.810326Z",
     "iopub.status.idle": "2025-06-11T04:28:43.157001Z",
     "shell.execute_reply": "2025-06-11T04:28:43.157001Z",
     "shell.execute_reply.started": "2025-06-11T04:28:42.810326Z"
    },
    "id": "lBNJqT9EQMqU"
   },
   "outputs": [
    {
     "name": "stdout",
     "output_type": "stream",
     "text": [
      "[SchemaField('word', 'STRING', 'REQUIRED', None, 'A single unique word (where whitespace is the delimiter) extracted from a corpus.', (), None), SchemaField('word_count', 'INTEGER', 'REQUIRED', None, 'The number of times this word appears in this corpus.', (), None), SchemaField('corpus', 'STRING', 'REQUIRED', None, 'The work from which this word was extracted.', (), None), SchemaField('corpus_date', 'INTEGER', 'REQUIRED', None, 'The year in which this corpus was published.', (), None)]\n"
     ]
    }
   ],
   "source": [
    "#ANSWER\n",
    "print(client.get_table(table_ref).schema)"
   ]
  },
  {
   "cell_type": "markdown",
   "metadata": {
    "id": "iGrt3XsIQMqW"
   },
   "source": [
    "Again, this is messy. If we wanted to refer to the column names and types in code, we might use something like this (which we could then parse into a dict):"
   ]
  },
  {
   "cell_type": "code",
   "execution_count": 21,
   "metadata": {
    "execution": {
     "iopub.execute_input": "2025-06-11T04:28:43.166655Z",
     "iopub.status.busy": "2025-06-11T04:28:43.165210Z",
     "iopub.status.idle": "2025-06-11T04:28:43.169326Z",
     "shell.execute_reply": "2025-06-11T04:28:43.169326Z",
     "shell.execute_reply.started": "2025-06-11T04:28:43.166655Z"
    },
    "id": "G27W0Q9QQMqX"
   },
   "outputs": [
    {
     "name": "stdout",
     "output_type": "stream",
     "text": [
      "['word STRING', 'word_count INTEGER', 'corpus STRING', 'corpus_date INTEGER']\n"
     ]
    }
   ],
   "source": [
    "result = [\"{0} {1}\".format(schema.name,schema.field_type) for schema in table.schema]\n",
    "print(result)"
   ]
  },
  {
   "cell_type": "markdown",
   "metadata": {
    "id": "EKV8IsmlQMqY"
   },
   "source": [
    "But if we just want to print them, here is another neat function for that:"
   ]
  },
  {
   "cell_type": "code",
   "execution_count": 22,
   "metadata": {
    "execution": {
     "iopub.execute_input": "2025-06-11T04:28:43.178374Z",
     "iopub.status.busy": "2025-06-11T04:28:43.178374Z",
     "iopub.status.idle": "2025-06-11T04:28:43.182281Z",
     "shell.execute_reply": "2025-06-11T04:28:43.182281Z",
     "shell.execute_reply.started": "2025-06-11T04:28:43.178374Z"
    },
    "id": "m1uf0jPxQMqZ"
   },
   "outputs": [],
   "source": [
    "# function to print a table schema:\n",
    "def printTableSchema(aTable):\n",
    "    schemas = list(aTable.schema)\n",
    "    if schemas:\n",
    "        print('Table schema for {}:'.format(aTable.table_id))\n",
    "        for aSchema in schemas:\n",
    "            print('\\t{0} {1}'.format(aSchema.name, aSchema.field_type))\n",
    "        found = True\n",
    "    else:\n",
    "        found = False\n",
    "    return found"
   ]
  },
  {
   "cell_type": "markdown",
   "metadata": {
    "id": "3-l8kOkVQMqa"
   },
   "source": [
    "Use this function to print the table schema:"
   ]
  },
  {
   "cell_type": "code",
   "execution_count": 23,
   "metadata": {
    "execution": {
     "iopub.execute_input": "2025-06-11T04:28:43.190346Z",
     "iopub.status.busy": "2025-06-11T04:28:43.190346Z",
     "iopub.status.idle": "2025-06-11T04:28:43.531139Z",
     "shell.execute_reply": "2025-06-11T04:28:43.531139Z",
     "shell.execute_reply.started": "2025-06-11T04:28:43.190346Z"
    },
    "id": "zc10udqtQMqa"
   },
   "outputs": [
    {
     "name": "stdout",
     "output_type": "stream",
     "text": [
      "Table schema for shakespeare:\n",
      "\tword STRING\n",
      "\tword_count INTEGER\n",
      "\tcorpus STRING\n",
      "\tcorpus_date INTEGER\n"
     ]
    },
    {
     "data": {
      "text/plain": [
       "True"
      ]
     },
     "execution_count": 23,
     "metadata": {},
     "output_type": "execute_result"
    }
   ],
   "source": [
    "#ANSWER:\n",
    "printTableSchema(client.get_table(table_ref))"
   ]
  },
  {
   "cell_type": "markdown",
   "metadata": {
    "id": "b8CKkZBPQMqc"
   },
   "source": [
    "Now that we know what the columns are, we can write queries. Actually, we construct a query job by assigning an SQL statement to a method of the `client` object:"
   ]
  },
  {
   "cell_type": "code",
   "execution_count": 24,
   "metadata": {
    "execution": {
     "iopub.execute_input": "2025-06-11T04:28:43.541177Z",
     "iopub.status.busy": "2025-06-11T04:28:43.541177Z",
     "iopub.status.idle": "2025-06-11T04:28:43.545802Z",
     "shell.execute_reply": "2025-06-11T04:28:43.545300Z",
     "shell.execute_reply.started": "2025-06-11T04:28:43.541177Z"
    },
    "id": "yfsmLuJHQMqd"
   },
   "outputs": [
    {
     "data": {
      "text/plain": [
       "'\\n# MEANT TO FAIL\\n\\nquery_job = client.query(sql)\\n'"
      ]
     },
     "execution_count": 24,
     "metadata": {},
     "output_type": "execute_result"
    }
   ],
   "source": [
    "sql = \"SELECT COUNT(1) FROM bigquery-public-data.samples.shakespeare\"\n",
    "'''\n",
    "# MEANT TO FAIL\n",
    "\n",
    "query_job = client.query(sql)\n",
    "'''"
   ]
  },
  {
   "cell_type": "markdown",
   "metadata": {
    "id": "CAaHnxvuQMqf"
   },
   "source": [
    "This will throw an error since we don't have permission to create queries inside the `bigquery-public-data` project. Instead we set the project to our BigQuery project name."
   ]
  },
  {
   "cell_type": "code",
   "execution_count": 25,
   "metadata": {
    "execution": {
     "iopub.execute_input": "2025-06-11T04:28:43.554934Z",
     "iopub.status.busy": "2025-06-11T04:28:43.554934Z",
     "iopub.status.idle": "2025-06-11T04:28:44.258498Z",
     "shell.execute_reply": "2025-06-11T04:28:44.258498Z",
     "shell.execute_reply.started": "2025-06-11T04:28:43.554934Z"
    },
    "id": "5D9V0KjiQMqf"
   },
   "outputs": [],
   "source": [
    "client = bigquery.Client.from_service_account_json(key_path, project = 'resolute-mote-462623-v5') #<<< your BigQuery project ID here!\n",
    "query_job = client.query(sql)"
   ]
  },
  {
   "cell_type": "markdown",
   "metadata": {
    "id": "79jeDjSUQMqg"
   },
   "source": [
    "If that worked, show what query_job is:"
   ]
  },
  {
   "cell_type": "code",
   "execution_count": 26,
   "metadata": {
    "execution": {
     "iopub.execute_input": "2025-06-11T04:28:44.268861Z",
     "iopub.status.busy": "2025-06-11T04:28:44.268861Z",
     "iopub.status.idle": "2025-06-11T04:28:44.272183Z",
     "shell.execute_reply": "2025-06-11T04:28:44.272183Z",
     "shell.execute_reply.started": "2025-06-11T04:28:44.268861Z"
    },
    "id": "9-cJTROVxpw0"
   },
   "outputs": [
    {
     "name": "stdout",
     "output_type": "stream",
     "text": [
      "QueryJob<project=resolute-mote-462623-v5, location=US, id=e86415f1-ab62-48ad-bcc7-6eafb2ab78c9>\n"
     ]
    }
   ],
   "source": [
    "# ANSWER\n",
    "print(query_job)"
   ]
  },
  {
   "cell_type": "markdown",
   "metadata": {
    "id": "k9lZ6v0cQMqi"
   },
   "source": [
    "Once again, due to lazy execution, no actual execution occurs until we request output:"
   ]
  },
  {
   "cell_type": "code",
   "execution_count": 27,
   "metadata": {
    "execution": {
     "iopub.execute_input": "2025-06-11T04:28:44.281769Z",
     "iopub.status.busy": "2025-06-11T04:28:44.281769Z",
     "iopub.status.idle": "2025-06-11T04:28:44.946743Z",
     "shell.execute_reply": "2025-06-11T04:28:44.946743Z",
     "shell.execute_reply.started": "2025-06-11T04:28:44.281769Z"
    },
    "id": "SSw6zneJQMqi"
   },
   "outputs": [
    {
     "name": "stdout",
     "output_type": "stream",
     "text": [
      "Row((164656,), {'f0_': 0})\n"
     ]
    }
   ],
   "source": [
    "for row in query_job:  # API request - fetches results\n",
    "    print(row)"
   ]
  },
  {
   "cell_type": "markdown",
   "metadata": {
    "id": "ItvCscRsQMqk"
   },
   "source": [
    "And, again, we need to manipulate this to make it neat. Each member of the rowset is a list and we only want to extract the value, which is in the first member:"
   ]
  },
  {
   "cell_type": "code",
   "execution_count": 28,
   "metadata": {
    "execution": {
     "iopub.execute_input": "2025-06-11T04:28:44.957634Z",
     "iopub.status.busy": "2025-06-11T04:28:44.957634Z",
     "iopub.status.idle": "2025-06-11T04:28:44.960120Z",
     "shell.execute_reply": "2025-06-11T04:28:44.960120Z",
     "shell.execute_reply.started": "2025-06-11T04:28:44.957634Z"
    },
    "id": "9rB2rpmoQMqk"
   },
   "outputs": [
    {
     "name": "stdout",
     "output_type": "stream",
     "text": [
      "164656\n"
     ]
    }
   ],
   "source": [
    "print(row[0])"
   ]
  },
  {
   "cell_type": "markdown",
   "metadata": {
    "id": "UE_dP3i2QMqn"
   },
   "source": [
    "So, we now know that this table has 164,656 rows. (We would not want to print it!)"
   ]
  },
  {
   "cell_type": "markdown",
   "metadata": {
    "id": "Hd4SdhDwQMqr"
   },
   "source": [
    "Write, execute, and print the results of a query that fetches 10 rows from the table, each containing the \"word\", \"word_count\", and \"corpus\" fields:"
   ]
  },
  {
   "cell_type": "code",
   "execution_count": 29,
   "metadata": {
    "execution": {
     "iopub.execute_input": "2025-06-11T04:28:44.978383Z",
     "iopub.status.busy": "2025-06-11T04:28:44.978383Z",
     "iopub.status.idle": "2025-06-11T04:28:45.662132Z",
     "shell.execute_reply": "2025-06-11T04:28:45.662132Z",
     "shell.execute_reply.started": "2025-06-11T04:28:44.978383Z"
    },
    "id": "KiQXzKCbQMqr"
   },
   "outputs": [],
   "source": [
    "#ANSWER\n",
    "sql = \"SELECT word,word_count,corpus FROM bigquery-public-data.samples.shakespeare LIMIT 10\"\n",
    "client = bigquery.Client.from_service_account_json(key_path, project = 'resolute-mote-462623-v5') #<<< your BigQuery project ID here!\n",
    "query_job = client.query(sql)"
   ]
  },
  {
   "cell_type": "markdown",
   "metadata": {
    "id": "o-_rW8ApQMqu"
   },
   "source": [
    "Whenever you catch yourself writing a swag of code to do something that seems rudimentary or low-level, there is a very good chance that you don't need to. A much easier way to handle the above requirement is to use the `to_dataframe` method of the QueryJob object:"
   ]
  },
  {
   "cell_type": "code",
   "execution_count": 30,
   "metadata": {
    "execution": {
     "iopub.execute_input": "2025-06-11T04:28:45.670969Z",
     "iopub.status.busy": "2025-06-11T04:28:45.670969Z",
     "iopub.status.idle": "2025-06-11T04:28:47.839375Z",
     "shell.execute_reply": "2025-06-11T04:28:47.839375Z",
     "shell.execute_reply.started": "2025-06-11T04:28:45.670969Z"
    },
    "id": "oZ25oiMOQMqu"
   },
   "outputs": [
    {
     "data": {
      "text/html": [
       "<div>\n",
       "<style scoped>\n",
       "    .dataframe tbody tr th:only-of-type {\n",
       "        vertical-align: middle;\n",
       "    }\n",
       "\n",
       "    .dataframe tbody tr th {\n",
       "        vertical-align: top;\n",
       "    }\n",
       "\n",
       "    .dataframe thead th {\n",
       "        text-align: right;\n",
       "    }\n",
       "</style>\n",
       "<table border=\"1\" class=\"dataframe\">\n",
       "  <thead>\n",
       "    <tr style=\"text-align: right;\">\n",
       "      <th></th>\n",
       "      <th>word</th>\n",
       "      <th>word_count</th>\n",
       "      <th>corpus</th>\n",
       "    </tr>\n",
       "  </thead>\n",
       "  <tbody>\n",
       "    <tr>\n",
       "      <th>0</th>\n",
       "      <td>LVII</td>\n",
       "      <td>1</td>\n",
       "      <td>sonnets</td>\n",
       "    </tr>\n",
       "    <tr>\n",
       "      <th>1</th>\n",
       "      <td>augurs</td>\n",
       "      <td>1</td>\n",
       "      <td>sonnets</td>\n",
       "    </tr>\n",
       "    <tr>\n",
       "      <th>2</th>\n",
       "      <td>dimm'd</td>\n",
       "      <td>1</td>\n",
       "      <td>sonnets</td>\n",
       "    </tr>\n",
       "    <tr>\n",
       "      <th>3</th>\n",
       "      <td>plagues</td>\n",
       "      <td>1</td>\n",
       "      <td>sonnets</td>\n",
       "    </tr>\n",
       "    <tr>\n",
       "      <th>4</th>\n",
       "      <td>treason</td>\n",
       "      <td>1</td>\n",
       "      <td>sonnets</td>\n",
       "    </tr>\n",
       "    <tr>\n",
       "      <th>5</th>\n",
       "      <td>surmise</td>\n",
       "      <td>1</td>\n",
       "      <td>sonnets</td>\n",
       "    </tr>\n",
       "    <tr>\n",
       "      <th>6</th>\n",
       "      <td>heed</td>\n",
       "      <td>1</td>\n",
       "      <td>sonnets</td>\n",
       "    </tr>\n",
       "    <tr>\n",
       "      <th>7</th>\n",
       "      <td>Unthrifty</td>\n",
       "      <td>1</td>\n",
       "      <td>sonnets</td>\n",
       "    </tr>\n",
       "    <tr>\n",
       "      <th>8</th>\n",
       "      <td>quality</td>\n",
       "      <td>1</td>\n",
       "      <td>sonnets</td>\n",
       "    </tr>\n",
       "    <tr>\n",
       "      <th>9</th>\n",
       "      <td>wherever</td>\n",
       "      <td>1</td>\n",
       "      <td>sonnets</td>\n",
       "    </tr>\n",
       "  </tbody>\n",
       "</table>\n",
       "</div>"
      ],
      "text/plain": [
       "        word  word_count   corpus\n",
       "0       LVII           1  sonnets\n",
       "1     augurs           1  sonnets\n",
       "2     dimm'd           1  sonnets\n",
       "3    plagues           1  sonnets\n",
       "4    treason           1  sonnets\n",
       "5    surmise           1  sonnets\n",
       "6       heed           1  sonnets\n",
       "7  Unthrifty           1  sonnets\n",
       "8    quality           1  sonnets\n",
       "9   wherever           1  sonnets"
      ]
     },
     "execution_count": 30,
     "metadata": {},
     "output_type": "execute_result"
    }
   ],
   "source": [
    "df = query_job.to_dataframe()\n",
    "df"
   ]
  },
  {
   "cell_type": "markdown",
   "metadata": {
    "id": "3iNOJ-cnQMqv"
   },
   "source": [
    "#### Additional Notes"
   ]
  },
  {
   "cell_type": "markdown",
   "metadata": {
    "id": "1DFF38wvQMqv"
   },
   "source": [
    "1. Here is a readable way to code long SQL statements:"
   ]
  },
  {
   "cell_type": "code",
   "execution_count": 31,
   "metadata": {
    "execution": {
     "iopub.execute_input": "2025-06-11T04:28:47.858840Z",
     "iopub.status.busy": "2025-06-11T04:28:47.858840Z",
     "iopub.status.idle": "2025-06-11T04:28:47.861706Z",
     "shell.execute_reply": "2025-06-11T04:28:47.861706Z",
     "shell.execute_reply.started": "2025-06-11T04:28:47.858840Z"
    },
    "id": "C1rUFwnnQMqv"
   },
   "outputs": [],
   "source": [
    "sql = \"\"\"\n",
    "    SELECT word, word_count, corpus\n",
    "    FROM bigquery-public-data.samples.shakespeare\n",
    "    LIMIT 10\n",
    "    \"\"\""
   ]
  },
  {
   "cell_type": "markdown",
   "metadata": {
    "id": "ey8f9Hg_QMqw"
   },
   "source": [
    "2. If you had an application that needed to modify the tables or datasets in the `bigquery-public-data` is project, you could copy them to our own project, where you would have the permissions to do as you please with the data (subject to Google's terms of use)."
   ]
  },
  {
   "cell_type": "markdown",
   "metadata": {
    "id": "bMrmiDRJQMqw"
   },
   "source": [
    "3. We aren't limited to the datasets that are already in BigQuery. We can upload tables from our computer, and we can pull data in from other online sources."
   ]
  },
  {
   "cell_type": "markdown",
   "metadata": {
    "id": "KpCJE78Cxpw4"
   },
   "source": [
    "## Google Gemini"
   ]
  },
  {
   "cell_type": "markdown",
   "metadata": {
    "id": "y42HUkiyxpw4"
   },
   "source": [
    "Google Gemini (formerly Bard) is a multimodal generative AI chatbot. It can process text, audio, images and video.\n",
    "\n",
    "Create an API key at https://aistudio.google.com/app/apikey . Copy the key and paste it into a text file called 'gemini_key.txt'"
   ]
  },
  {
   "cell_type": "markdown",
   "metadata": {
    "id": "2778CTfIxpw4"
   },
   "source": [
    "## Google Gemini UI\n",
    "While signed into Google experiment with some prompts at https://aistudio.google.com/app/prompts/new_chat. A prompt gallery is available at https://aistudio.google.com/app/gallery."
   ]
  },
  {
   "cell_type": "markdown",
   "metadata": {
    "id": "5VtWkTPixpw4"
   },
   "source": [
    "## Google Gemini API"
   ]
  },
  {
   "cell_type": "markdown",
   "metadata": {
    "id": "1sr2VmOgxpw4"
   },
   "source": [
    "The library `google-generativeai` gives access to Gemini models. For this section download the following two files from the DATA folder:\n",
    "\n",
    "* `equation.jpg`\n",
    "* `JFK.mp3`"
   ]
  },
  {
   "cell_type": "code",
   "execution_count": 32,
   "metadata": {
    "execution": {
     "iopub.execute_input": "2025-06-11T04:28:47.934076Z",
     "iopub.status.busy": "2025-06-11T04:28:47.934076Z",
     "iopub.status.idle": "2025-06-11T04:28:49.707122Z",
     "shell.execute_reply": "2025-06-11T04:28:49.707122Z",
     "shell.execute_reply.started": "2025-06-11T04:28:47.934076Z"
    },
    "id": "Wfv8zvH1xpw5"
   },
   "outputs": [
    {
     "name": "stdout",
     "output_type": "stream",
     "text": [
      "Requirement already satisfied: google-genai in c:\\users\\koh_k\\anaconda3\\lib\\site-packages (1.19.0)\n",
      "Requirement already satisfied: anyio<5.0.0,>=4.8.0 in c:\\users\\koh_k\\anaconda3\\lib\\site-packages (from google-genai) (4.9.0)\n",
      "Requirement already satisfied: google-auth<3.0.0,>=2.14.1 in c:\\users\\koh_k\\anaconda3\\lib\\site-packages (from google-genai) (2.40.3)\n",
      "Requirement already satisfied: httpx<1.0.0,>=0.28.1 in c:\\users\\koh_k\\anaconda3\\lib\\site-packages (from google-genai) (0.28.1)\n",
      "Requirement already satisfied: pydantic<3.0.0,>=2.0.0 in c:\\users\\koh_k\\anaconda3\\lib\\site-packages (from google-genai) (2.8.2)\n",
      "Requirement already satisfied: requests<3.0.0,>=2.28.1 in c:\\users\\koh_k\\anaconda3\\lib\\site-packages (from google-genai) (2.32.3)\n",
      "Requirement already satisfied: websockets<15.1.0,>=13.0.0 in c:\\users\\koh_k\\anaconda3\\lib\\site-packages (from google-genai) (15.0.1)\n",
      "Requirement already satisfied: typing-extensions<5.0.0,>=4.11.0 in c:\\users\\koh_k\\anaconda3\\lib\\site-packages (from google-genai) (4.11.0)\n",
      "Requirement already satisfied: idna>=2.8 in c:\\users\\koh_k\\anaconda3\\lib\\site-packages (from anyio<5.0.0,>=4.8.0->google-genai) (3.7)\n",
      "Requirement already satisfied: sniffio>=1.1 in c:\\users\\koh_k\\anaconda3\\lib\\site-packages (from anyio<5.0.0,>=4.8.0->google-genai) (1.3.0)\n",
      "Requirement already satisfied: cachetools<6.0,>=2.0.0 in c:\\users\\koh_k\\anaconda3\\lib\\site-packages (from google-auth<3.0.0,>=2.14.1->google-genai) (5.3.3)\n",
      "Requirement already satisfied: pyasn1-modules>=0.2.1 in c:\\users\\koh_k\\anaconda3\\lib\\site-packages (from google-auth<3.0.0,>=2.14.1->google-genai) (0.2.8)\n",
      "Requirement already satisfied: rsa<5,>=3.1.4 in c:\\users\\koh_k\\anaconda3\\lib\\site-packages (from google-auth<3.0.0,>=2.14.1->google-genai) (4.9.1)\n",
      "Requirement already satisfied: certifi in c:\\users\\koh_k\\anaconda3\\lib\\site-packages (from httpx<1.0.0,>=0.28.1->google-genai) (2025.4.26)\n",
      "Requirement already satisfied: httpcore==1.* in c:\\users\\koh_k\\anaconda3\\lib\\site-packages (from httpx<1.0.0,>=0.28.1->google-genai) (1.0.2)\n",
      "Requirement already satisfied: h11<0.15,>=0.13 in c:\\users\\koh_k\\anaconda3\\lib\\site-packages (from httpcore==1.*->httpx<1.0.0,>=0.28.1->google-genai) (0.14.0)\n",
      "Requirement already satisfied: annotated-types>=0.4.0 in c:\\users\\koh_k\\anaconda3\\lib\\site-packages (from pydantic<3.0.0,>=2.0.0->google-genai) (0.6.0)\n",
      "Requirement already satisfied: pydantic-core==2.20.1 in c:\\users\\koh_k\\anaconda3\\lib\\site-packages (from pydantic<3.0.0,>=2.0.0->google-genai) (2.20.1)\n",
      "Requirement already satisfied: charset-normalizer<4,>=2 in c:\\users\\koh_k\\anaconda3\\lib\\site-packages (from requests<3.0.0,>=2.28.1->google-genai) (3.3.2)\n",
      "Requirement already satisfied: urllib3<3,>=1.21.1 in c:\\users\\koh_k\\anaconda3\\lib\\site-packages (from requests<3.0.0,>=2.28.1->google-genai) (2.2.3)\n",
      "Requirement already satisfied: pyasn1<0.5.0,>=0.4.6 in c:\\users\\koh_k\\anaconda3\\lib\\site-packages (from pyasn1-modules>=0.2.1->google-auth<3.0.0,>=2.14.1->google-genai) (0.4.8)\n"
     ]
    }
   ],
   "source": [
    "# -U gives the latest version\n",
    "!pip install -U google-genai"
   ]
  },
  {
   "cell_type": "code",
   "execution_count": 33,
   "metadata": {
    "execution": {
     "iopub.execute_input": "2025-06-11T04:28:49.708135Z",
     "iopub.status.busy": "2025-06-11T04:28:49.708135Z",
     "iopub.status.idle": "2025-06-11T04:28:50.840284Z",
     "shell.execute_reply": "2025-06-11T04:28:50.840284Z",
     "shell.execute_reply.started": "2025-06-11T04:28:49.708135Z"
    },
    "id": "_rwuMn5Bxpw5"
   },
   "outputs": [],
   "source": [
    "from google import genai\n",
    "from IPython.display import Markdown # allows Markdown text to be displayed in the notebook"
   ]
  },
  {
   "cell_type": "markdown",
   "metadata": {
    "id": "fLIKAdCwxpw5"
   },
   "source": [
    "Firstly we read our API key from `gemini_key.txt`:"
   ]
  },
  {
   "cell_type": "code",
   "execution_count": 34,
   "metadata": {
    "execution": {
     "iopub.execute_input": "2025-06-11T04:28:50.850331Z",
     "iopub.status.busy": "2025-06-11T04:28:50.849328Z",
     "iopub.status.idle": "2025-06-11T04:28:50.854117Z",
     "shell.execute_reply": "2025-06-11T04:28:50.854117Z",
     "shell.execute_reply.started": "2025-06-11T04:28:50.850331Z"
    },
    "id": "locq-5Cxxpw6"
   },
   "outputs": [],
   "source": [
    "filename = 'gemini_key.txt'\n",
    "try:\n",
    "    with open(filename, 'r') as f:\n",
    "        # It's assumed your file contains a single line containing your API key only\n",
    "        key = f.read().strip()\n",
    "except FileNotFoundError:\n",
    "    print(\"'%s' file not found\" % filename)"
   ]
  },
  {
   "cell_type": "code",
   "execution_count": 35,
   "metadata": {
    "execution": {
     "iopub.execute_input": "2025-06-11T04:28:50.855131Z",
     "iopub.status.busy": "2025-06-11T04:28:50.855131Z",
     "iopub.status.idle": "2025-06-11T04:28:51.106342Z",
     "shell.execute_reply": "2025-06-11T04:28:51.106342Z",
     "shell.execute_reply.started": "2025-06-11T04:28:50.855131Z"
    },
    "id": "57kbcoErxpw6"
   },
   "outputs": [],
   "source": [
    "client = genai.Client(api_key=key)"
   ]
  },
  {
   "cell_type": "markdown",
   "metadata": {
    "id": "oD4bAhVoxpw6"
   },
   "source": [
    "We shall use the following client methods:\n",
    "\n",
    "* `models.generate_content()`: used to generate responses from the model\n",
    "* `models.list()`: used to see available models\n",
    "* `files.upload()`: used to upload image/audio files"
   ]
  },
  {
   "cell_type": "markdown",
   "metadata": {
    "id": "yLdPzZGMxpw6"
   },
   "source": [
    "The following code lists the available models for text generation:"
   ]
  },
  {
   "cell_type": "code",
   "execution_count": 36,
   "metadata": {
    "execution": {
     "iopub.execute_input": "2025-06-11T04:28:51.127469Z",
     "iopub.status.busy": "2025-06-11T04:28:51.126464Z",
     "iopub.status.idle": "2025-06-11T04:28:52.343588Z",
     "shell.execute_reply": "2025-06-11T04:28:52.343588Z",
     "shell.execute_reply.started": "2025-06-11T04:28:51.127469Z"
    },
    "id": "hGfNEiAuxpw7"
   },
   "outputs": [
    {
     "name": "stdout",
     "output_type": "stream",
     "text": [
      "models/gemini-1.0-pro-vision-latest\n",
      "models/gemini-pro-vision\n",
      "models/gemini-1.5-pro-latest\n",
      "models/gemini-1.5-pro-001\n",
      "models/gemini-1.5-pro-002\n",
      "models/gemini-1.5-pro\n",
      "models/gemini-1.5-flash-latest\n",
      "models/gemini-1.5-flash-001\n",
      "models/gemini-1.5-flash-001-tuning\n",
      "models/gemini-1.5-flash\n",
      "models/gemini-1.5-flash-002\n",
      "models/gemini-1.5-flash-8b\n",
      "models/gemini-1.5-flash-8b-001\n",
      "models/gemini-1.5-flash-8b-latest\n",
      "models/gemini-1.5-flash-8b-exp-0827\n",
      "models/gemini-1.5-flash-8b-exp-0924\n",
      "models/gemini-2.5-pro-exp-03-25\n",
      "models/gemini-2.5-pro-preview-03-25\n",
      "models/gemini-2.5-flash-preview-04-17\n",
      "models/gemini-2.5-flash-preview-05-20\n",
      "models/gemini-2.5-flash-preview-04-17-thinking\n",
      "models/gemini-2.5-pro-preview-05-06\n",
      "models/gemini-2.5-pro-preview-06-05\n",
      "models/gemini-2.0-flash-exp\n",
      "models/gemini-2.0-flash\n",
      "models/gemini-2.0-flash-001\n",
      "models/gemini-2.0-flash-exp-image-generation\n",
      "models/gemini-2.0-flash-lite-001\n",
      "models/gemini-2.0-flash-lite\n",
      "models/gemini-2.0-flash-preview-image-generation\n",
      "models/gemini-2.0-flash-lite-preview-02-05\n",
      "models/gemini-2.0-flash-lite-preview\n",
      "models/gemini-2.0-pro-exp\n",
      "models/gemini-2.0-pro-exp-02-05\n",
      "models/gemini-exp-1206\n",
      "models/gemini-2.0-flash-thinking-exp-01-21\n",
      "models/gemini-2.0-flash-thinking-exp\n",
      "models/gemini-2.0-flash-thinking-exp-1219\n",
      "models/gemini-2.5-flash-preview-tts\n",
      "models/gemini-2.5-pro-preview-tts\n",
      "models/learnlm-2.0-flash-experimental\n",
      "models/gemma-3-1b-it\n",
      "models/gemma-3-4b-it\n",
      "models/gemma-3-12b-it\n",
      "models/gemma-3-27b-it\n",
      "models/gemma-3n-e4b-it\n"
     ]
    }
   ],
   "source": [
    "for m in client.models.list():\n",
    "    if \"generateContent\" in m.supported_actions:\n",
    "        print(m.name)"
   ]
  },
  {
   "cell_type": "markdown",
   "metadata": {
    "id": "7gXcb3_axpw7"
   },
   "source": [
    "As suggested by the name, Gemini Flash is designed for faster responses while Gemini Pro works better at more challenging tasks. Pro has a lower rate limit of 2 requests per minute as seen in https://ai.google.dev/pricing."
   ]
  },
  {
   "cell_type": "code",
   "execution_count": 37,
   "metadata": {
    "execution": {
     "iopub.execute_input": "2025-06-11T04:28:52.353756Z",
     "iopub.status.busy": "2025-06-11T04:28:52.352339Z",
     "iopub.status.idle": "2025-06-11T04:28:55.049003Z",
     "shell.execute_reply": "2025-06-11T04:28:55.049003Z",
     "shell.execute_reply.started": "2025-06-11T04:28:52.353756Z"
    },
    "id": "nM7O6cazxpw7"
   },
   "outputs": [],
   "source": [
    "response = client.models.generate_content(\n",
    "    model=\"gemini-1.5-flash\", contents=\"What is an API?\"\n",
    ")"
   ]
  },
  {
   "cell_type": "markdown",
   "metadata": {
    "id": "r25EuFCFxpw7"
   },
   "source": [
    "The attribute `text` shows in Markdown format the response of the model to the question."
   ]
  },
  {
   "cell_type": "code",
   "execution_count": 38,
   "metadata": {
    "execution": {
     "iopub.execute_input": "2025-06-11T04:28:55.062874Z",
     "iopub.status.busy": "2025-06-11T04:28:55.061512Z",
     "iopub.status.idle": "2025-06-11T04:28:55.068624Z",
     "shell.execute_reply": "2025-06-11T04:28:55.067074Z",
     "shell.execute_reply.started": "2025-06-11T04:28:55.061512Z"
    },
    "id": "tVpmzYEXxpw7"
   },
   "outputs": [
    {
     "data": {
      "text/markdown": [
       "API stands for **Application Programming Interface**.  It's essentially a messenger that takes requests from one application and tells another application what to do.  Think of it as a menu in a restaurant.  You (the application) don't need to know how the kitchen (the other application) prepares your food, you just need to know what options are available (the API's functions) and how to order them (the API's requests).\n",
       "\n",
       "More technically, an API is a set of rules and specifications that software programs can follow to communicate with each other.  It defines how software components should interact, what data they can exchange, and the format of that data.  This allows different software systems, built by different developers, to work together seamlessly.\n",
       "\n",
       "Here's a breakdown:\n",
       "\n",
       "* **Requests:**  An application makes a request to the API, specifying what it needs.\n",
       "* **Response:** The API processes the request and sends back a response, which may include data or a confirmation message.\n",
       "* **Data formats:** APIs commonly use formats like JSON or XML to exchange data.\n",
       "* **Endpoints:** Specific URLs that applications use to access the API's functions.\n",
       "\n",
       "**Examples:**\n",
       "\n",
       "*  When you use a weather app on your phone, the app uses an API to fetch weather data from a weather service.\n",
       "*  A social media login button on a website uses an API to authenticate users with their social media accounts.\n",
       "*  A mapping application uses APIs to display maps and directions.\n",
       "\n",
       "In short, APIs are crucial for building modern software applications because they enable modularity, reusability, and integration between different systems.\n"
      ],
      "text/plain": [
       "<IPython.core.display.Markdown object>"
      ]
     },
     "execution_count": 38,
     "metadata": {},
     "output_type": "execute_result"
    }
   ],
   "source": [
    "Markdown(response.text)"
   ]
  },
  {
   "cell_type": "markdown",
   "metadata": {
    "id": "7DKf8jEUxpw8"
   },
   "source": [
    "Study the response object and identify the total token count."
   ]
  },
  {
   "cell_type": "code",
   "execution_count": 42,
   "metadata": {
    "execution": {
     "iopub.execute_input": "2025-06-11T04:31:09.158446Z",
     "iopub.status.busy": "2025-06-11T04:31:09.156944Z",
     "iopub.status.idle": "2025-06-11T04:31:09.164687Z",
     "shell.execute_reply": "2025-06-11T04:31:09.163658Z",
     "shell.execute_reply.started": "2025-06-11T04:31:09.158446Z"
    },
    "id": "GWJKsCqvxpw8"
   },
   "outputs": [
    {
     "data": {
      "text/plain": [
       "344"
      ]
     },
     "execution_count": 42,
     "metadata": {},
     "output_type": "execute_result"
    }
   ],
   "source": [
    "# ANSWER\n",
    "response.usage_metadata.total_token_count"
   ]
  },
  {
   "cell_type": "markdown",
   "metadata": {
    "id": "D4ArzGbKxpw8"
   },
   "source": [
    "Next, we have Gemini process a mathematical equation in an image."
   ]
  },
  {
   "cell_type": "code",
   "execution_count": 43,
   "metadata": {
    "execution": {
     "iopub.execute_input": "2025-06-11T04:34:13.286175Z",
     "iopub.status.busy": "2025-06-11T04:34:13.286175Z",
     "iopub.status.idle": "2025-06-11T04:34:16.601818Z",
     "shell.execute_reply": "2025-06-11T04:34:16.601818Z",
     "shell.execute_reply.started": "2025-06-11T04:34:13.286175Z"
    },
    "id": "wcxC9JItxpw8"
   },
   "outputs": [],
   "source": [
    "sample_image = client.files.upload(file=r\"C:\\Users\\koh_k\\Downloads\\Institute of Data\\DATA\\equation.jpg\")"
   ]
  },
  {
   "cell_type": "code",
   "execution_count": 44,
   "metadata": {
    "execution": {
     "iopub.execute_input": "2025-06-11T04:34:19.071111Z",
     "iopub.status.busy": "2025-06-11T04:34:19.071111Z",
     "iopub.status.idle": "2025-06-11T04:34:20.381199Z",
     "shell.execute_reply": "2025-06-11T04:34:20.381199Z",
     "shell.execute_reply.started": "2025-06-11T04:34:19.071111Z"
    },
    "id": "oM27gjfJxpw8"
   },
   "outputs": [
    {
     "data": {
      "text/markdown": [
       "The image contains a quadratic equation:\n",
       "\n",
       "0 = x² - 5x + 6"
      ],
      "text/plain": [
       "<IPython.core.display.Markdown object>"
      ]
     },
     "execution_count": 44,
     "metadata": {},
     "output_type": "execute_result"
    }
   ],
   "source": [
    "result = client.models.generate_content(\n",
    "    model=\"gemini-1.5-flash\",\n",
    "    contents=[\n",
    "        sample_image,\n",
    "        \"\\n\\n\",\n",
    "        \"What is in this image?\",\n",
    "    ],\n",
    ")\n",
    "Markdown(result.text)"
   ]
  },
  {
   "cell_type": "markdown",
   "metadata": {
    "id": "tuKbviaNxpw8"
   },
   "source": [
    "Use the Gemini 1.5 Flash model to solve the equation in the image."
   ]
  },
  {
   "cell_type": "code",
   "execution_count": 49,
   "metadata": {
    "execution": {
     "iopub.execute_input": "2025-06-11T04:41:57.126942Z",
     "iopub.status.busy": "2025-06-11T04:41:57.126942Z",
     "iopub.status.idle": "2025-06-11T04:41:58.979551Z",
     "shell.execute_reply": "2025-06-11T04:41:58.979551Z",
     "shell.execute_reply.started": "2025-06-11T04:41:57.126942Z"
    },
    "id": "eHIqvaj9xpw8"
   },
   "outputs": [
    {
     "data": {
      "text/markdown": [
       ">Here's how to solve the quadratic equation 0 = x² - 5x + 6:\n",
       "\n",
       "**1. Factor the quadratic expression:**\n",
       "\n",
       "We need to find two numbers that add up to -5 (the coefficient of x) and multiply to 6 (the constant term). Those numbers are -2 and -3.  Therefore, the factored form is:\n",
       "\n",
       "0 = (x - 2)(x - 3)\n",
       "\n",
       "**2. Set each factor to zero and solve:**\n",
       "\n",
       "* x - 2 = 0  =>  x = 2\n",
       "* x - 3 = 0  =>  x = 3\n",
       "\n",
       "**Solution:**\n",
       "\n",
       "The solutions to the quadratic equation are x = 2 and x = 3."
      ],
      "text/plain": [
       "<IPython.core.display.Markdown object>"
      ]
     },
     "execution_count": 49,
     "metadata": {},
     "output_type": "execute_result"
    }
   ],
   "source": [
    "# REPLACE ??? with code\n",
    "'''\n",
    "response = model.generate_content([prompt, sample_image])\n",
    "Markdown(\">\" + response.text)\n",
    "'''\n",
    "\n",
    "result = client.models.generate_content(\n",
    "    model=\"gemini-1.5-flash\",\n",
    "    contents=[\n",
    "        sample_image,\n",
    "        \"\\n\\n\",\n",
    "        \"Solve the quadratic equation in this image\",\n",
    "    ],\n",
    ")\n",
    "\n",
    "Markdown(\">\" + result.text)"
   ]
  },
  {
   "cell_type": "markdown",
   "metadata": {
    "id": "9luhD3Jnxpw9"
   },
   "source": [
    "Finally we transcribe a short audio clip."
   ]
  },
  {
   "cell_type": "code",
   "execution_count": 51,
   "metadata": {
    "execution": {
     "iopub.execute_input": "2025-06-11T04:45:17.798347Z",
     "iopub.status.busy": "2025-06-11T04:45:17.798347Z",
     "iopub.status.idle": "2025-06-11T04:45:20.763104Z",
     "shell.execute_reply": "2025-06-11T04:45:20.762410Z",
     "shell.execute_reply.started": "2025-06-11T04:45:17.798347Z"
    },
    "id": "IUO21JIuxpw9"
   },
   "outputs": [
    {
     "name": "stdout",
     "output_type": "stream",
     "text": [
      "And so my fellow Americans, ask not what your country can do for you, ask what you can do for your country.\n",
      "\n"
     ]
    }
   ],
   "source": [
    "# REPLACE ??? with code\n",
    "audio_file = client.files.upload(file=r\"C:\\Users\\koh_k\\Downloads\\Institute of Data\\DATA\\JFK.mp3\")\n",
    "\n",
    "# Create a prompt.\n",
    "prompt = \"Transcribe the audio.\"\n",
    "\n",
    "# Pass the prompt and the audio file to gemini-1.5-flash using client.models.generate_content\n",
    "response = client.models.generate_content(\n",
    "    model=\"gemini-1.5-flash\",\n",
    "    contents=[\n",
    "        audio_file,\n",
    "        \"\\n\\n\",\n",
    "        \"Transcribe the audio file\"\n",
    "    ]\n",
    ")\n",
    "\n",
    "# Print the response.\n",
    "print(response.text)"
   ]
  },
  {
   "cell_type": "markdown",
   "metadata": {
    "id": "BbB6B7r3QMqx"
   },
   "source": [
    "## Further reading\n",
    "\n",
    "If you wish to pick up a few more skills in BigQuery you can go to https://cloud.google.com/bigquery/create-simple-app-api and https://cloud.google.com/bigquery/docs/samples.\n",
    "\n",
    "Alternatively, you can take a deeper dive into the API here: https://googlecloudplatform.github.io/google-cloud-python/latest/bigquery/usage.html.\n",
    "\n",
    "The Google Gemini API documentation is at https://ai.google.dev/gemini-api/docs"
   ]
  },
  {
   "cell_type": "markdown",
   "metadata": {
    "id": "c6jzTfrZQMqx"
   },
   "source": [
    "## - END -"
   ]
  },
  {
   "cell_type": "markdown",
   "metadata": {
    "id": "fWOk43cgN71c"
   },
   "source": [
    "\n",
    "\n",
    "---\n",
    "\n",
    "\n",
    "\n",
    "---\n",
    "\n",
    "\n",
    "\n",
    "> > > > > > > > > © 2025 Institute of Data\n",
    "\n",
    "\n",
    "---\n",
    "\n",
    "\n",
    "\n",
    "---\n",
    "\n",
    "\n",
    "\n"
   ]
  }
 ],
 "metadata": {
  "colab": {
   "collapsed_sections": [
    "BbB6B7r3QMqx"
   ],
   "provenance": []
  },
  "kernelspec": {
   "display_name": "Python 3 (ipykernel)",
   "language": "python",
   "name": "python3"
  },
  "language_info": {
   "codemirror_mode": {
    "name": "ipython",
    "version": 3
   },
   "file_extension": ".py",
   "mimetype": "text/x-python",
   "name": "python",
   "nbconvert_exporter": "python",
   "pygments_lexer": "ipython3",
   "version": "3.10.18"
  }
 },
 "nbformat": 4,
 "nbformat_minor": 4
}
